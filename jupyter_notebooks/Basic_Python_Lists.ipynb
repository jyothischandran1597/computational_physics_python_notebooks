{
 "cells": [
  {
   "cell_type": "markdown",
   "id": "6db4ab37-e8e3-4b96-8710-4c455a2be6e4",
   "metadata": {},
   "source": [
    "Link: https://www.tutorialgateway.org/python-programming-examples/"
   ]
  },
  {
   "cell_type": "markdown",
   "id": "dddab70d-7fe8-466e-9311-7288bf856954",
   "metadata": {},
   "source": [
    "## Append an item to list"
   ]
  },
  {
   "cell_type": "code",
   "execution_count": 1,
   "id": "fff19804-8d08-4e92-ae03-26e4941794cf",
   "metadata": {},
   "outputs": [
    {
     "name": "stdout",
     "output_type": "stream",
     "text": [
      "Numeric List Before Appending Item\n",
      "[10, 20, 30, 40, 50]\n",
      "Numeric List After Appending First Item\n",
      "[10, 20, 30, 40, 50, 65]\n"
     ]
    },
    {
     "name": "stdin",
     "output_type": "stream",
     "text": [
      "Please enter the List Item =  100\n"
     ]
    },
    {
     "name": "stdout",
     "output_type": "stream",
     "text": [
      "Numeric List After Appending Second Item\n",
      "[10, 20, 30, 40, 50, 65, 100]\n"
     ]
    }
   ],
   "source": [
    "numbers = [10, 20, 30, 40, 50]\n",
    "\n",
    "print(\"Numeric List Before Appending Item\")\n",
    "print(numbers)\n",
    "\n",
    "numbers.append(65)\n",
    "\n",
    "print(\"Numeric List After Appending First Item\")\n",
    "print(numbers)\n",
    "\n",
    "value = int(input(\"Please enter the List Item = \"))\n",
    "numbers.append(value)\n",
    "\n",
    "print(\"Numeric List After Appending Second Item\")\n",
    "print(numbers)"
   ]
  },
  {
   "cell_type": "code",
   "execution_count": 2,
   "id": "ec6b2c74-aede-4fb8-b706-ee530d524c9a",
   "metadata": {},
   "outputs": [
    {
     "name": "stdout",
     "output_type": "stream",
     "text": [
      "List Before Appending Item\n",
      "['India', 'USA', 'UK', 'Italy']\n",
      "\n",
      "List After Appending Japan at 3rd Index Position\n",
      "['India', 'USA', 'UK', 'Japan', 'Italy']\n",
      "\n",
      "List After Appending China at 0 Index Position\n",
      "['China', 'India', 'USA', 'UK', 'Japan', 'Italy']\n",
      "\n",
      "List After Appending France at 6 Index Position\n",
      "['China', 'India', 'USA', 'UK', 'Japan', 'Italy', 'France']\n"
     ]
    }
   ],
   "source": [
    "countries = [\"India\", \"USA\", \"UK\", \"Italy\"]\n",
    "\n",
    "print(\"List Before Appending Item\")\n",
    "print(countries)\n",
    "\n",
    "countries.insert(3, \"Japan\")\n",
    "print(\"\\nList After Appending Japan at 3rd Index Position\")\n",
    "print(countries)\n",
    "\n",
    "countries.insert(0, \"China\")\n",
    "print(\"\\nList After Appending China at 0 Index Position\")\n",
    "print(countries)\n",
    "\n",
    "countries.insert(6, \"France\")\n",
    "print(\"\\nList After Appending France at 6 Index Position\")\n",
    "print(countries)"
   ]
  },
  {
   "cell_type": "code",
   "execution_count": 3,
   "id": "636a124c-b778-4a25-8175-cc0fb121a168",
   "metadata": {},
   "outputs": [
    {
     "name": "stdout",
     "output_type": "stream",
     "text": [
      "Numeric List Before Inserting Item\n",
      "[11, 22, 33, 44, 55, 66]\n"
     ]
    },
    {
     "name": "stdin",
     "output_type": "stream",
     "text": [
      "Please enter Index Position =  3\n",
      "Please enter the List Value =  99\n"
     ]
    },
    {
     "name": "stdout",
     "output_type": "stream",
     "text": [
      "Numeric List After Appending Item\n",
      "[11, 22, 33, 99, 44, 55, 66]\n"
     ]
    }
   ],
   "source": [
    "numbers = [11, 22, 33, 44, 55, 66]\n",
    "\n",
    "print(\"Numeric List Before Inserting Item\")\n",
    "print(numbers)\n",
    "\n",
    "\n",
    "index = int(input(\"Please enter Index Position = \"))\n",
    "value = int(input(\"Please enter the List Value = \"))\n",
    "\n",
    "numbers.insert(index, value)\n",
    "\n",
    "print(\"Numeric List After Appending Item\")\n",
    "print(numbers)"
   ]
  },
  {
   "cell_type": "markdown",
   "id": "8f2b119e-be78-45c6-b698-b08116787da1",
   "metadata": {},
   "source": [
    "___"
   ]
  },
  {
   "cell_type": "markdown",
   "id": "e09b2884-456d-4c81-bebb-b411775487f7",
   "metadata": {},
   "source": [
    "## Extend a List\n",
    "\n",
    "list.extend(iterator)"
   ]
  },
  {
   "cell_type": "code",
   "execution_count": 5,
   "id": "59c201d7-e5da-4061-83cb-6401bde4e587",
   "metadata": {},
   "outputs": [
    {
     "name": "stdout",
     "output_type": "stream",
     "text": [
      "List before appending item\n",
      "['India', 'USA', 'UK', 'Italy']\n",
      "\n",
      "List after appending Tuple using extend\n",
      "['India', 'USA', 'UK', 'Italy', 'Japan', 'China', 'France']\n",
      "\n",
      "List after appending List using extend\n",
      "['India', 'USA', 'UK', 'Italy', 'Japan', 'China', 'France', 19, 17, 39, 55]\n",
      "\n",
      "List after appending numbers using extend\n",
      "['India', 'USA', 'UK', 'Italy', 'Japan', 'China', 'France', 19, 17, 39, 55, 11.5, 19.2]\n"
     ]
    }
   ],
   "source": [
    "countries = [\"India\", \"USA\", \"UK\", \"Italy\"]\n",
    "\n",
    "print(\"List before appending item\")\n",
    "print(countries)\n",
    "\n",
    "tuple1 = (\"Japan\", \"China\", \"France\")\n",
    "countries.extend(tuple1)\n",
    "print(\"\\nList after appending Tuple using extend\")\n",
    "print(countries)\n",
    "\n",
    "list1 = [19, 17, 39, 55]\n",
    "countries.extend(list1)\n",
    "print(\"\\nList after appending List using extend\")\n",
    "print(countries)\n",
    "\n",
    "countries.extend((11.5, 19.2))\n",
    "print(\"\\nList after appending numbers using extend\")\n",
    "print(countries)"
   ]
  },
  {
   "cell_type": "markdown",
   "id": "f73f11c1-25c1-44d5-9e1c-b5348284c264",
   "metadata": {},
   "source": [
    "___\n",
    "\n",
    "## List length"
   ]
  },
  {
   "cell_type": "code",
   "execution_count": 98,
   "id": "15fb9ff7-f9f7-4f16-85bb-85cebfebf8e8",
   "metadata": {},
   "outputs": [
    {
     "name": "stdout",
     "output_type": "stream",
     "text": [
      "The length of the List is  9\n"
     ]
    }
   ],
   "source": [
    "List = [1,2,3,4,5,6,7,8,9]\n",
    "\n",
    "print(\"The length of the List is \", len(List))"
   ]
  },
  {
   "cell_type": "code",
   "execution_count": 99,
   "id": "7565a5b4-1c58-4084-ae28-bcd90d695bdb",
   "metadata": {},
   "outputs": [
    {
     "name": "stdout",
     "output_type": "stream",
     "text": [
      "The length of the List is  5\n"
     ]
    }
   ],
   "source": [
    "stringList = ['Krishna', 'John', 'Yung', 'Ram', 'Steve']\n",
    "\n",
    "print(\"The length of the List is \", len(stringList))"
   ]
  },
  {
   "cell_type": "code",
   "execution_count": 100,
   "id": "30a0ee59-5b93-4389-8f9f-ec8038e532ed",
   "metadata": {},
   "outputs": [
    {
     "name": "stdout",
     "output_type": "stream",
     "text": [
      "['Krishna', 20, 'John', 40.5, 'Yung', 11.98, 'Ram', 22]\n",
      "8\n",
      "\n",
      "['Krishna', 20, 'John', (40, 50, 65), 'Yung', 11.98, 'Ram']\n",
      "7\n"
     ]
    }
   ],
   "source": [
    "mixedList = ['Krishna', 20, 'John', 40.5, 'Yung', 11.98, 'Ram', 22]\n",
    "print(mixedList)\n",
    "print(len(mixedList))\n",
    "print()\n",
    "\n",
    "mixedList2 = ['Krishna', 20, 'John', (40, 50, 65), 'Yung', 11.98, 'Ram']\n",
    "print(mixedList2)\n",
    "print(len(mixedList2))"
   ]
  },
  {
   "cell_type": "code",
   "execution_count": 102,
   "id": "afc1816f-bcb4-4157-b587-eea1c4d96a2f",
   "metadata": {},
   "outputs": [
    {
     "name": "stdout",
     "output_type": "stream",
     "text": [
      "['Krishna', 20, 'John', [20, 40, 50, 65, 22], 'Yung', 11.98]\n",
      "Length of the nested list is  6\n",
      "Length of the inner list is  5\n"
     ]
    }
   ],
   "source": [
    "nested_List = ['Krishna', 20, 'John', [20, 40, 50, 65, 22], 'Yung', 11.98]\n",
    "print(nested_List)\n",
    "print(\"Length of the nested list is \",len(nested_List))\n",
    "print(\"Length of the inner list is \",len(nested_List[3]))"
   ]
  },
  {
   "cell_type": "markdown",
   "id": "bb2e3091-8d9c-42da-8de7-5fadd49ea353",
   "metadata": {},
   "source": [
    "___"
   ]
  },
  {
   "cell_type": "markdown",
   "id": "a8d14c9f-08ea-47f1-8117-895647fd4783",
   "metadata": {},
   "source": [
    "## Accessing List Index and Values"
   ]
  },
  {
   "cell_type": "code",
   "execution_count": 6,
   "id": "a6fe2ee3-e90a-429d-bbf4-e6396d088964",
   "metadata": {},
   "outputs": [
    {
     "name": "stdout",
     "output_type": "stream",
     "text": [
      "List Index and Values are\n",
      "Index Number =  0  and Value =  10\n",
      "Index Number =  1  and Value =  20\n",
      "Index Number =  2  and Value =  30\n",
      "Index Number =  3  and Value =  40\n",
      "Index Number =  4  and Value =  50\n"
     ]
    }
   ],
   "source": [
    "Num_List = [10, 20, 30, 40, 50]\n",
    "\n",
    "print(\"List Index and Values are\")\n",
    "for i in range(len(Num_List)):\n",
    "    print(\"Index Number = \", i, \" and Value = \", Num_List[i])"
   ]
  },
  {
   "cell_type": "markdown",
   "id": "3a91b4e5-a5a0-4654-8a49-a25a2733a5d8",
   "metadata": {},
   "source": [
    "## Using enumerate(iterable, start=0)\n",
    "\n",
    "Enumerate is a very useful and convenient function while using loops. One way to loop over a list's index is using range(length_of_list). Instead of using the range() function, we can instead use the built-in enumerate() function in python. enumerate() allows us to iterate through a sequence but it keeps track of both the index and the element.\n",
    "\n",
    "Using enumerate is preferred in most cases due to better readability and logic."
   ]
  },
  {
   "cell_type": "code",
   "execution_count": 7,
   "id": "cc8a340f-74da-49ea-af47-22137358dc08",
   "metadata": {},
   "outputs": [
    {
     "name": "stdout",
     "output_type": "stream",
     "text": [
      "0 42\n",
      "1 56\n",
      "2 39\n",
      "3 59\n",
      "4 99\n"
     ]
    }
   ],
   "source": [
    "num_list= [42, 56, 39, 59, 99]\n",
    "for i in range(len(num_list)): \n",
    "    print(i, num_list[i])"
   ]
  },
  {
   "cell_type": "code",
   "execution_count": 8,
   "id": "540726ab-d783-4033-8cee-1bb67e744179",
   "metadata": {},
   "outputs": [
    {
     "name": "stdout",
     "output_type": "stream",
     "text": [
      "0 42\n",
      "1 56\n",
      "2 39\n",
      "3 59\n",
      "4 99\n"
     ]
    }
   ],
   "source": [
    "num_list= [42, 56, 39, 59, 99]\n",
    "for index, element in enumerate(num_list):\n",
    "    print(index, element)"
   ]
  },
  {
   "cell_type": "code",
   "execution_count": 9,
   "id": "ee8d42e4-3036-43f6-a8cb-856df587713c",
   "metadata": {},
   "outputs": [
    {
     "name": "stdout",
     "output_type": "stream",
     "text": [
      "List Index and Values are\n",
      "Index Number =  0  and Value =  2\n",
      "Index Number =  1  and Value =  4\n",
      "Index Number =  2  and Value =  6\n",
      "Index Number =  3  and Value =  8\n",
      "Index Number =  4  and Value =  10\n",
      "Index Number =  5  and Value =  12\n"
     ]
    }
   ],
   "source": [
    "Num_list = [2, 4, 6, 8, 10, 12]\n",
    "\n",
    "print(\"List Index and Values are\")\n",
    "for index, value in enumerate(Num_list):\n",
    "    print(\"Index Number = \", index, \" and Value = \", value)"
   ]
  },
  {
   "cell_type": "markdown",
   "id": "113b511d-5be1-4817-8cf1-e551c0abd739",
   "metadata": {},
   "source": [
    "### List comprehension:\n",
    "List comprehensions are used for creating new lists from other iterables like tuples, strings, arrays, lists, etc. A list comprehension consists of brackets containing the expression, which is executed for each element along with the for loop to iterate over each element. \n",
    "\n",
    "New_List = \\[ expression(element) **for** element **in** Old_List **if** condition ] \n",
    "\n",
    "List comprehensions are a more time and space efficient option with better readability when we have to modify elements of a list or operate on elements of an interable."
   ]
  },
  {
   "cell_type": "code",
   "execution_count": 12,
   "id": "f3c8a172-d5db-48c5-bce7-18682d041ade",
   "metadata": {},
   "outputs": [
    {
     "name": "stdout",
     "output_type": "stream",
     "text": [
      "List Index and Values are\n",
      "[(0, 13), (1, 43), (2, 56), (3, 78), (4, 65)]\n",
      "List Index and Values are\n",
      "[(0, 10), (1, 20), (2, 30), (3, 40), (4, 50)]\n",
      "List Index and Values defined using enumerate are\n",
      "[(0, 10), (1, 20), (2, 30), (3, 40), (4, 50)]\n"
     ]
    }
   ],
   "source": [
    "Num_list = [13, 43, 56, 78, 65]\n",
    "\n",
    "list_1 = [list((i, Num_list[i])) for i in range(len(Num_list))]\n",
    "print(\"List Index and Values are\")\n",
    "print(list2)\n",
    "\n",
    "list_2 = [(i, Num_list[i]) for i in range(len(Num_list))]\n",
    "print(\"List Index and Values are\")\n",
    "print(list3)\n",
    "\n",
    "list_3 = [(index, value) for index, value in enumerate(Num_List)]\n",
    "print(\"List Index and Values defined using enumerate are\")\n",
    "print(list3)"
   ]
  },
  {
   "cell_type": "markdown",
   "id": "df02e141-9a15-44cf-9f32-b3afe3c2ae51",
   "metadata": {},
   "source": [
    "### Using zip, range and len"
   ]
  },
  {
   "cell_type": "code",
   "execution_count": 15,
   "id": "a4fe6b85-47cb-4ad5-9f4f-4fcd6e0afb8f",
   "metadata": {},
   "outputs": [
    {
     "name": "stdout",
     "output_type": "stream",
     "text": [
      "List Index and Values are\n",
      "Index Number =  0  and Value =  22\n",
      "Index Number =  1  and Value =  44\n",
      "Index Number =  2  and Value =  66\n",
      "Index Number =  3  and Value =  88\n",
      "Index Number =  4  and Value =  122\n",
      "\n",
      "[(0, 22), (1, 44), (2, 66), (3, 88), (4, 122)]\n"
     ]
    }
   ],
   "source": [
    "Num_List = [22, 44, 66, 88, 122]\n",
    "\n",
    "print(\"List Index and Values are\")\n",
    "for index, value in zip(range(len(Num_List)), Num_List):\n",
    "    print(\"Index Number = \", index, \" and Value = \", value)\n",
    "\n",
    "print(\"\")\n",
    "print(list(zip(range(len(Num_List)), Num_List)))"
   ]
  },
  {
   "cell_type": "markdown",
   "id": "bc39b056-5544-45a8-a73b-295efdc325cd",
   "metadata": {},
   "source": [
    "___\n",
    "## Print elements in reverse order"
   ]
  },
  {
   "cell_type": "code",
   "execution_count": 107,
   "id": "58830a9c-0499-42d9-9822-13150504c78f",
   "metadata": {},
   "outputs": [
    {
     "name": "stdout",
     "output_type": "stream",
     "text": [
      "Printing the List Items in Rererse\n",
      "[60, 50, 40, 30, 20, 10]\n",
      "\n",
      "Printing the List Items in Rererse\n",
      "[60, 50, 40, 30, 20, 10]\n"
     ]
    }
   ],
   "source": [
    "a = [10, 20, 30, 40, 50, 60]\n",
    "\n",
    "print('Printing the List Items in Rererse')\n",
    "print(a[::-1])#...index slicing a[from:end:step]\n",
    "\n",
    "a.reverse()\n",
    "print('\\nPrinting the List Items in Rererse')\n",
    "print(a)"
   ]
  },
  {
   "cell_type": "code",
   "execution_count": 108,
   "id": "f44bb728-f896-480a-bfa5-332f65b86714",
   "metadata": {},
   "outputs": [
    {
     "name": "stdout",
     "output_type": "stream",
     "text": [
      "60  50  40  30  20  10  "
     ]
    }
   ],
   "source": [
    "a = [10, 20, 30, 40, 50, 60]\n",
    "\n",
    "for i in range(len(a)-1, -1, -1):\n",
    "    print(a[i], end = '  ')"
   ]
  },
  {
   "cell_type": "code",
   "execution_count": 112,
   "id": "860f1f72-a0b1-4b8e-a7da-e508413909f9",
   "metadata": {},
   "outputs": [
    {
     "name": "stdout",
     "output_type": "stream",
     "text": [
      "Printing the List Items in Reverse\n",
      "60  50  40  30  20  10  "
     ]
    }
   ],
   "source": [
    "print('Printing the List Items in Reverse')\n",
    "i = len(a) - 1\n",
    "while i >= 0:\n",
    "    print(a[i], end = '  ')\n",
    "    i = i - 1"
   ]
  },
  {
   "cell_type": "markdown",
   "id": "11a497f8-f5a8-4ef3-855e-42032670cb5a",
   "metadata": {},
   "source": [
    "___\n",
    "\n",
    "## Reverse a List\n",
    "\n",
    "### 1. Using list.reverse()"
   ]
  },
  {
   "cell_type": "code",
   "execution_count": 150,
   "id": "dc4d0a2b-f225-440d-8a8a-bf0341faac95",
   "metadata": {},
   "outputs": [
    {
     "name": "stdout",
     "output_type": "stream",
     "text": [
      "\n",
      "The Result of a Reverse List =   [9, 8, 7, 6, 5, 4, 3, 2, 1]\n"
     ]
    }
   ],
   "source": [
    "NumList = [1,2,3,4,5,6,7,8,9]\n",
    "\n",
    "NumList.reverse()\n",
    "print(\"\\nThe Result of a Reverse List =  \", NumList)"
   ]
  },
  {
   "cell_type": "markdown",
   "id": "b8440d51-5d8b-4397-9e0b-02903e41a662",
   "metadata": {},
   "source": [
    "### 2. Using while loop"
   ]
  },
  {
   "cell_type": "code",
   "execution_count": 152,
   "id": "2766f65a-e2f1-4441-9b99-d73548de7fae",
   "metadata": {},
   "outputs": [
    {
     "name": "stdout",
     "output_type": "stream",
     "text": [
      "The Result =   [9, 8, 7, 6, 5, 4, 3, 2, 1]\n"
     ]
    }
   ],
   "source": [
    "NumList = [1,2,3,4,5,6,7,8,9]\n",
    "Number = len(NumList)\n",
    "\n",
    "j = Number - 1\n",
    "i = 0\n",
    "\n",
    "while(i < j):\n",
    "    temp = NumList[i]\n",
    "    NumList[i] = NumList[j]\n",
    "    NumList[j] = temp\n",
    "    i = i + 1\n",
    "    j = j - 1\n",
    "    \n",
    "print(\"The Result =  \", NumList)"
   ]
  },
  {
   "cell_type": "markdown",
   "id": "49915081-efac-4a13-a3b2-d09786c28caf",
   "metadata": {},
   "source": [
    "### 3. Custom function"
   ]
  },
  {
   "cell_type": "code",
   "execution_count": 154,
   "id": "79b209d1-b765-4d56-81d7-7b8102cbb930",
   "metadata": {},
   "outputs": [
    {
     "name": "stdout",
     "output_type": "stream",
     "text": [
      "\n",
      "The Result =   [9, 8, 7, 6, 5, 4, 3, 2, 1]\n"
     ]
    }
   ],
   "source": [
    "def reverseList(NumList):\n",
    "    num = len(NumList)\n",
    "    j = Number - 1\n",
    "    i = 0\n",
    "    while(i < j):\n",
    "        temp = NumList[i]\n",
    "        NumList[i] = NumList[j]\n",
    "        NumList[j] = temp\n",
    "        i = i + 1\n",
    "        j = j - 1\n",
    "        \n",
    "NumList = [1,2,3,4,5,6,7,8,9]\n",
    "reverseList(NumList)\n",
    "print(\"\\nThe Result =  \", NumList)"
   ]
  },
  {
   "cell_type": "code",
   "execution_count": 159,
   "id": "e19cda85-6a58-4617-b31c-f277afc305a5",
   "metadata": {},
   "outputs": [
    {
     "name": "stdout",
     "output_type": "stream",
     "text": [
      "\n",
      "The Result =   [9, 8, 7, 6, 5, 4, 3, 2, 1]\n"
     ]
    }
   ],
   "source": [
    "def reverseList(NumList):\n",
    "    num = len(NumList)\n",
    "    rev_list=[]\n",
    "    i = 0\n",
    "    while(i < num):\n",
    "        rev_list.append(NumList[num-i-1])\n",
    "        i = i + 1\n",
    "    return rev_list\n",
    "        \n",
    "NumList = [1,2,3,4,5,6,7,8,9]\n",
    "Reverse_List = reverseList(NumList)\n",
    "print(\"\\nThe Result =  \", Reverse_List)"
   ]
  },
  {
   "cell_type": "markdown",
   "id": "c98dd291-bd4a-4ade-8195-3381fdaf1a8f",
   "metadata": {},
   "source": [
    "### 4. Using function recursively"
   ]
  },
  {
   "cell_type": "code",
   "execution_count": 160,
   "id": "b9eae432-613e-47c5-ac07-807c667bfdec",
   "metadata": {},
   "outputs": [
    {
     "name": "stdout",
     "output_type": "stream",
     "text": [
      "\n",
      "The Result =   [9, 8, 7, 6, 5, 4, 3, 2, 1]\n"
     ]
    }
   ],
   "source": [
    "def reverseList(NumList, i, j):\n",
    "    if(i < j):\n",
    "        temp = NumList[i]\n",
    "        NumList[i] = NumList[j]\n",
    "        NumList[j] = temp\n",
    "        reverseList(NumList, i + 1, j-1)\n",
    "        \n",
    "reverseList(NumList, 0, Number - 1)\n",
    "print(\"\\nThe Result =  \", NumList)"
   ]
  },
  {
   "cell_type": "markdown",
   "id": "510946b4-054a-4d02-a9e6-24865a3bad21",
   "metadata": {},
   "source": [
    "___"
   ]
  },
  {
   "cell_type": "markdown",
   "id": "76252494-3348-495c-89a5-30a1c8caa39f",
   "metadata": {},
   "source": [
    "## Simple operations on Lists"
   ]
  },
  {
   "cell_type": "markdown",
   "id": "6f9ab5f7-962f-4886-92cd-6061fc80b79c",
   "metadata": {},
   "source": [
    "### 1. Add two lists "
   ]
  },
  {
   "cell_type": "code",
   "execution_count": 20,
   "id": "eb126bf5-bfad-4050-92ae-d19efe33bf2d",
   "metadata": {},
   "outputs": [
    {
     "name": "stdout",
     "output_type": "stream",
     "text": [
      "\n",
      "The total Sum of Two Lists =   [25, 45, 65]\n",
      "\n",
      "The total Sum of Two Lists using list comprehension=   [25, 45, 65]\n"
     ]
    }
   ],
   "source": [
    "Num_List_1 = [10, 20, 30]\n",
    "Num_List_2 = [15, 25, 35]\n",
    "total = []\n",
    " \n",
    "for j in range(3):\n",
    "    total.append( Num_List_1[j] + Num_List_2[j])\n",
    " \n",
    "print(\"\\nThe total Sum of Two Lists =  \", total)\n",
    "\n",
    "total = [num_1 + num_2 for num_1, num_2 in list(zip(Num_List_1,Num_List_2))]\n",
    "\n",
    "print(\"\\nThe total Sum of Two Lists using list comprehension=  \", total)"
   ]
  },
  {
   "cell_type": "code",
   "execution_count": 18,
   "id": "19647bfc-5ee6-4ad1-b051-ec075b78811d",
   "metadata": {},
   "outputs": [
    {
     "data": {
      "text/plain": [
       "[10, 20, 30, 15, 25, 35]"
      ]
     },
     "execution_count": 18,
     "metadata": {},
     "output_type": "execute_result"
    }
   ],
   "source": [
    "# Just adding the two lists with + will result in a joined list\n",
    "\n",
    "Num_List_1 + Num_List_2"
   ]
  },
  {
   "cell_type": "code",
   "execution_count": 23,
   "id": "a2b3029c-77a6-4566-9b13-f48f880716a6",
   "metadata": {},
   "outputs": [
    {
     "name": "stdin",
     "output_type": "stream",
     "text": [
      "Please enter the Total Number of List Elements:  4\n"
     ]
    },
    {
     "name": "stdout",
     "output_type": "stream",
     "text": [
      "Please enter the Items of a First and Second List   \n"
     ]
    },
    {
     "name": "stdin",
     "output_type": "stream",
     "text": [
      "Please enter the 1 Element of List1 :  1\n",
      "Please enter the 1 Element of List2 :  10\n",
      "Please enter the 2 Element of List1 :  2\n",
      "Please enter the 2 Element of List2 :  20\n",
      "Please enter the 3 Element of List1 :  3\n",
      "Please enter the 3 Element of List2 :  30\n",
      "Please enter the 4 Element of List1 :  4\n",
      "Please enter the 4 Element of List2 :  40\n"
     ]
    },
    {
     "name": "stdout",
     "output_type": "stream",
     "text": [
      "\n",
      "The total Sum of Two Lists =   [11, 22, 33, 44]\n"
     ]
    }
   ],
   "source": [
    "NumList1 = []\n",
    "NumList2 = []\n",
    "total = []\n",
    "i = 1\n",
    "j = 0\n",
    "\n",
    "Number = int(input(\"Please enter the Total Number of List Elements: \"))\n",
    "print(\"Please enter the Items of a First and Second List   \")\n",
    "while(i <= Number):\n",
    "    List1value = int(input(\"Please enter the {} Element of List1 : \".format(i)))\n",
    "    NumList1.append(List1value)\n",
    "\n",
    "    List2value = int(input(\"Please enter the {} Element of List2 : \".format(i)))\n",
    "    NumList2.append(List2value)\n",
    "    i = i + 1\n",
    "    \n",
    "while(j < Number):\n",
    "    total.append( NumList1[j] + NumList2[j])\n",
    "    j = j + 1\n",
    " \n",
    "print(\"\\nThe total Sum of Two Lists =  \", total)"
   ]
  },
  {
   "cell_type": "markdown",
   "id": "0df45b2e-bc15-443a-bac7-3d5d1d1c64c7",
   "metadata": {},
   "source": [
    "### 2. Simple operations"
   ]
  },
  {
   "cell_type": "code",
   "execution_count": 25,
   "id": "e3e16042-4a6a-4ebc-b92a-3ba30b2df45f",
   "metadata": {},
   "outputs": [
    {
     "name": "stdout",
     "output_type": "stream",
     "text": [
      "\n",
      "The List Items after Addition =   [15, 22, 33]\n",
      "The List Items after Subtraction =   [5, 18, 27]\n",
      "The List Items after Multiplication =   [50, 40, 90]\n",
      "The List Items after Division =   [2.0, 10.0, 10.0]\n",
      "The List Items after Modulus =   [0, 0, 0]\n",
      "The List Items after Exponent =   [100000, 400, 27000]\n"
     ]
    }
   ],
   "source": [
    "NumList1 = [10, 20, 30]\n",
    "NumList2 = [5, 2, 3]\n",
    "add = []\n",
    "sub = []\n",
    "multi = []\n",
    "div = []\n",
    "mod = []\n",
    "expo = []\n",
    " \n",
    "for j in range(len(NumList1)):\n",
    "    add.append( NumList1[j] + NumList2[j])\n",
    "    sub.append( NumList1[j] - NumList2[j])\n",
    "    multi.append( NumList1[j] * NumList2[j])\n",
    "    div.append( NumList1[j] / NumList2[j])\n",
    "    mod.append( NumList1[j] % NumList2[j])\n",
    "    expo.append( NumList1[j] ** NumList2[j])\n",
    " \n",
    "print(\"\\nThe List Items after Addition =  \", add)\n",
    "print(\"The List Items after Subtraction =  \", sub)\n",
    "print(\"The List Items after Multiplication =  \", multi)\n",
    "print(\"The List Items after Division =  \", div)\n",
    "print(\"The List Items after Modulus =  \", mod)\n",
    "print(\"The List Items after Exponent =  \", expo)"
   ]
  },
  {
   "cell_type": "code",
   "execution_count": 32,
   "id": "fc1b9870-5e4f-4333-85a3-9dbbc0894e13",
   "metadata": {},
   "outputs": [
    {
     "name": "stdin",
     "output_type": "stream",
     "text": [
      "Please enter the Total Number of List Elements:  3\n"
     ]
    },
    {
     "name": "stdout",
     "output_type": "stream",
     "text": [
      "Please enter the Items of a First and Second List   \n"
     ]
    },
    {
     "name": "stdin",
     "output_type": "stream",
     "text": [
      "Please enter the 0 Element of List1 :  10\n",
      "Please enter the 0 Element of List1 :  3\n",
      "Please enter the 1 Element of List1 :  100\n",
      "Please enter the 1 Element of List1 :  2\n",
      "Please enter the 2 Element of List1 :  1000\n",
      "Please enter the 2 Element of List1 :  1\n"
     ]
    },
    {
     "name": "stdout",
     "output_type": "stream",
     "text": [
      "\n",
      "The List Items after Addition =   [13, 102, 1001]\n",
      "The List Items after Subtraction =   [7, 98, 999]\n",
      "The List Items after Multiplication =   [30, 200, 1000]\n",
      "The List Items after Division =   [3.3333333333333335, 50.0, 1000.0]\n",
      "The List Items after Modulus =   [1, 0, 0]\n",
      "The List Items after Exponent =   [1000, 10000, 1000]\n"
     ]
    }
   ],
   "source": [
    "NumList1 = []; NumList2 = []\n",
    "add = [] ; sub = [] ; multi = []\n",
    "div = []; mod = [] ; expo = []\n",
    "i = 0\n",
    "j = 0\n",
    "Number = int(input(\"Please enter the Total Number of List Elements: \"))\n",
    "print(\"Please enter the Items of a First and Second List   \")\n",
    "while(i < Number):\n",
    "    List1value = int(input(\"Please enter the {} Element of List1 : \".format(i)))\n",
    "    NumList1.append(List1value)\n",
    "\n",
    "    List2value = int(input(\"Please enter the {} Element of List1 : \".format(i)))\n",
    "    NumList2.append(List2value)\n",
    "    i = i + 1\n",
    "    \n",
    "while(j < Number):\n",
    "    add.append( NumList1[j] + NumList2[j])\n",
    "    sub.append( NumList1[j] - NumList2[j])\n",
    "    multi.append( NumList1[j] * NumList2[j])\n",
    "    div.append( NumList1[j] / NumList2[j])\n",
    "    mod.append( NumList1[j] % NumList2[j])\n",
    "    expo.append( NumList1[j] ** NumList2[j])\n",
    "    j = j + 1\n",
    " \n",
    "print(\"\\nThe List Items after Addition =  \", add)\n",
    "print(\"The List Items after Subtraction =  \", sub)\n",
    "print(\"The List Items after Multiplication =  \", multi)\n",
    "print(\"The List Items after Division =  \", div)\n",
    "print(\"The List Items after Modulus =  \", mod)\n",
    "print(\"The List Items after Exponent =  \", expo)"
   ]
  },
  {
   "cell_type": "markdown",
   "id": "346a4833-85c4-4bc1-9f60-c523b4796a05",
   "metadata": {},
   "source": [
    "### 3. Sum of all elements of a list"
   ]
  },
  {
   "cell_type": "code",
   "execution_count": 36,
   "id": "b8c9e464-8849-4ace-85b5-2643ccf3a874",
   "metadata": {},
   "outputs": [
    {
     "name": "stdin",
     "output_type": "stream",
     "text": [
      "Enter the Total List Items =  3\n",
      "Enter the 1 list Item =  1\n",
      "Enter the 2 list Item =  10\n",
      "Enter the 3 list Item =  100\n"
     ]
    },
    {
     "name": "stdout",
     "output_type": "stream",
     "text": [
      "List Items =  [1, 10, 100]\n",
      "The Sum of all the List Items =  111\n"
     ]
    }
   ],
   "source": [
    "Sum_List = []\n",
    "\n",
    "list_length = int(input(\"Enter the Total List Items = \"))\n",
    "for i in range(1, list_length + 1):\n",
    "    list_value = int(input(\"Enter the {} list Item = \".format(i)))\n",
    "    Sum_List.append(list_value)\n",
    "\n",
    "print(\"List Items = \", Sum_List)\n",
    "\n",
    "list_sum = 0\n",
    "\n",
    "for i in range(list_length):\n",
    "    list_sum = list_sum + Sum_List[i]\n",
    "    \n",
    "print(\"The Sum of all the List Items = \", list_sum)"
   ]
  },
  {
   "cell_type": "code",
   "execution_count": 37,
   "id": "79c42929-1afb-461f-9fff-eb5b9c167761",
   "metadata": {},
   "outputs": [
    {
     "name": "stdout",
     "output_type": "stream",
     "text": [
      "The Muliplication of all the List Items using sum func =  111\n"
     ]
    }
   ],
   "source": [
    "list_sum_1=sum(Sum_List)\n",
    "\n",
    "print(\"The Muliplication of all the List Items using sum func = \", list_sum_1)"
   ]
  },
  {
   "cell_type": "markdown",
   "id": "d4ba5bbc-5f93-4a9b-bcef-7d16bd07aaf0",
   "metadata": {},
   "source": [
    "### 4. Multiplication of all elements of a list"
   ]
  },
  {
   "cell_type": "code",
   "execution_count": 39,
   "id": "60588e25-c4bf-4cca-9746-6e761e4e3455",
   "metadata": {},
   "outputs": [
    {
     "name": "stdin",
     "output_type": "stream",
     "text": [
      "Enter the Total List Items =  3\n",
      "Enter the 1 List Item =  1\n",
      "Enter the 2 List Item =  2\n",
      "Enter the 3 List Item =  3\n"
     ]
    },
    {
     "name": "stdout",
     "output_type": "stream",
     "text": [
      "List Items =  [1, 2, 3]\n",
      "The Muliplication of all the List Items =  6\n"
     ]
    }
   ],
   "source": [
    "multiList = []\n",
    "\n",
    "listNumber = int(input(\"Enter the Total List Items = \"))\n",
    "for i in range(1, listNumber + 1):\n",
    "    listValue = int(input(\"Enter the {} List Item = \".format(i)))\n",
    "    multiList.append(listValue)\n",
    "\n",
    "print(\"List Items = \", multiList)\n",
    "\n",
    "listMulti = 1\n",
    "\n",
    "for num in multiList:\n",
    "    listMulti = listMulti * num\n",
    "\n",
    "print(\"The Muliplication of all the List Items = \", listMulti)"
   ]
  },
  {
   "cell_type": "code",
   "execution_count": 42,
   "id": "32447b3b-9b25-49ef-a4e2-f82cfa3ca4b0",
   "metadata": {},
   "outputs": [
    {
     "name": "stdout",
     "output_type": "stream",
     "text": [
      "List Items =  [1, 2, 3]\n",
      "The Multiplication of all the List Items =  6\n"
     ]
    }
   ],
   "source": [
    "print(\"List Items = \", multiList)\n",
    "\n",
    "listMultiplication = 1\n",
    "i = 0\n",
    "\n",
    "while (i < listNumber):\n",
    "    listMultiplication = listMultiplication * multiList[i]\n",
    "    i = i + 1\n",
    "    \n",
    "print(\"The Multiplication of all the List Items = \", listMultiplication)"
   ]
  },
  {
   "cell_type": "code",
   "execution_count": 41,
   "id": "39b769d4-64fd-410a-97b6-e2f2ab4e8e7c",
   "metadata": {},
   "outputs": [
    {
     "name": "stdout",
     "output_type": "stream",
     "text": [
      "List Items =  [1, 2, 3]\n",
      "The Multiplication of all the List Items =  6\n"
     ]
    }
   ],
   "source": [
    "def listMultiplication(multiList):\n",
    "    listMulti = 1\n",
    "\n",
    "    for num in multiList:\n",
    "        listMulti = listMulti * num\n",
    "    return listMulti\n",
    "\n",
    "print(\"List Items = \", multiList)\n",
    "\n",
    "listMultip = listMultiplication(multiList)\n",
    "\n",
    "print(\"The Multiplication of all the List Items = \", listMultip)"
   ]
  },
  {
   "cell_type": "markdown",
   "id": "ee7ae438-5fce-47fe-a993-20ea2dd7ba17",
   "metadata": {},
   "source": [
    "___\n",
    "\n",
    "## Average of List Items\n",
    "\n",
    "### 1. Using for loop"
   ]
  },
  {
   "cell_type": "code",
   "execution_count": 49,
   "id": "e408eb9a-7d3b-408a-833a-92cfb6438f8f",
   "metadata": {},
   "outputs": [
    {
     "name": "stdin",
     "output_type": "stream",
     "text": [
      "Total Number of List Items =  3\n",
      "Please enter the 1 List Item =  1\n",
      "Please enter the 2 List Item =  3\n",
      "Please enter the 3 List Item =  5\n"
     ]
    },
    {
     "name": "stdout",
     "output_type": "stream",
     "text": [
      "\n",
      "The Sum Of List Items     =  9\n",
      "\n",
      "The Average Of List Items =  3.0\n"
     ]
    }
   ],
   "source": [
    "avglist = []\n",
    "Number = int(input(\"Total Number of List Items = \"))\n",
    "\n",
    "for i in range(1, Number + 1):\n",
    "    value = int(input(\"Please enter the %d List Item = \"  %i))\n",
    "    avglist.append(value)\n",
    "\n",
    "total = sum(avglist)\n",
    "avg = total / Number\n",
    "\n",
    "print('\\nThe Sum Of List Items     = ', total)\n",
    "print('\\nThe Average Of List Items = ', avg)"
   ]
  },
  {
   "cell_type": "markdown",
   "id": "12661fe7-0b6a-45d1-b234-8fff4b8c38d9",
   "metadata": {},
   "source": [
    "### 2. Using mean() function from statistics module"
   ]
  },
  {
   "cell_type": "code",
   "execution_count": 50,
   "id": "93f47291-060d-45c2-a342-2df486650487",
   "metadata": {},
   "outputs": [],
   "source": [
    "from statistics import mean"
   ]
  },
  {
   "cell_type": "code",
   "execution_count": 51,
   "id": "703b819d-754b-4530-919c-40bfaec9a97e",
   "metadata": {},
   "outputs": [
    {
     "name": "stdin",
     "output_type": "stream",
     "text": [
      "Total Number of List Items =  3\n",
      "Please enter the 1 List Item =  1\n",
      "Please enter the 2 List Item =  3\n",
      "Please enter the 3 List Item =  5\n"
     ]
    },
    {
     "name": "stdout",
     "output_type": "stream",
     "text": [
      "\n",
      "The Sum Of List Items     =  9\n",
      "\n",
      "The Average Of List Items =  3\n"
     ]
    }
   ],
   "source": [
    "avglist = []\n",
    "Number = int(input(\"Total Number of List Items = \"))\n",
    "\n",
    "for i in range(1, Number + 1):\n",
    "    value = int(input(\"Please enter the %d List Item = \"  %i))\n",
    "    avglist.append(value)\n",
    "\n",
    "total = sum(avglist)\n",
    "avg = mean(avglist)\n",
    "\n",
    "print('\\nThe Sum Of List Items     = ', total)\n",
    "print('\\nThe Average Of List Items = ', avg)"
   ]
  },
  {
   "cell_type": "markdown",
   "id": "a7b9e5e6-987a-4c11-ab81-e8385ccbbd9e",
   "metadata": {},
   "source": [
    "### 3. Using reduce() function from functools module"
   ]
  },
  {
   "cell_type": "code",
   "execution_count": 53,
   "id": "071ceb8b-8954-4d17-8724-292909231e6d",
   "metadata": {},
   "outputs": [],
   "source": [
    "from functools import reduce"
   ]
  },
  {
   "cell_type": "markdown",
   "id": "88d8ac1f-de38-4d12-b713-b7b725ffb006",
   "metadata": {},
   "source": [
    "\n",
    "''''''''''''''''''''''''''''''''''''''''''''''''''''''''''''''''''''''''''''''''''''''''''''''''''''''''''''''''''''''''''''''''''''''''''''''''''''''''''''''''''''''''''''''''''''''''''''''''\n",
    "## Remarks \n",
    "### 1. lambda function:\n",
    "\n",
    "$$lambda~~arguments:~~expression$$\n",
    "\n",
    "Python Lambda Functions are anonymous function means that the function is without a name. As we already know that the def keyword is used to define a normal function in Python. Similarly, the lambda keyword is used to define an anonymous function in Python. Lambda functions are syntactically restricted to a single expression.\n",
    "\n",
    "Example:\n",
    "\n",
    "    def cube(y):\n",
    "        return y*y*y\n",
    " \n",
    "    lambda_cube = lambda y: y*y*y\n",
    "    \n",
    "    cube(5) == lambda_cube(5)\n",
    "    \n",
    "### 2. reduce()\n",
    "\n",
    "The reduce(fun,seq) function is used to apply a particular function passed in its argument to all of the list elements mentioned in the sequence passed along.This function is defined in “functools” module.\n",
    "* At first step, first two elements of sequence are picked and the result is obtained.\n",
    "* Next step is to apply the same function to the previously attained result and the number just succeeding the second element and the result is again stored.\n",
    "* This process continues till no more elements are left in the container.\n",
    "* The final returned result is returned and printed on console.\n",
    "\n",
    "''''''''''''''''''''''''''''''''''''''''''''''''''''''''''''''''''''''''''''''''''''''''''''''''''''''''''''''''''''''''''''''''''''''''''''''''''''''''''''''''''''''''''''''''''''''''''''''''"
   ]
  },
  {
   "cell_type": "code",
   "execution_count": 54,
   "id": "27457e82-7c74-4635-8bad-de8858ead245",
   "metadata": {},
   "outputs": [
    {
     "name": "stdin",
     "output_type": "stream",
     "text": [
      "Total Number of List Items =  3\n",
      "Please enter the 1 List Item =  1\n",
      "Please enter the 2 List Item =  3\n",
      "Please enter the 3 List Item =  5\n"
     ]
    },
    {
     "name": "stdout",
     "output_type": "stream",
     "text": [
      "\n",
      "The Sum Of List Items     =  9\n",
      "\n",
      "The Average Of List Items =  3.0\n"
     ]
    }
   ],
   "source": [
    "avglist = []\n",
    "Number = int(input(\"Total Number of List Items = \"))\n",
    "\n",
    "for i in range(1, Number + 1):\n",
    "    value = int(input(\"Please enter the %d List Item = \"  %i))\n",
    "    avglist.append(value)\n",
    "\n",
    "total = sum(avglist)\n",
    "avg = reduce(lambda x, y: x + y, avglist) / Number\n",
    "#avg = reduce(lambda x, y: x + y, avglist) /len(avglist)\n",
    "\n",
    "print('\\nThe Sum Of List Items     = ', total)\n",
    "print('\\nThe Average Of List Items = ', avg)"
   ]
  },
  {
   "cell_type": "markdown",
   "id": "ee3e0066-0e98-4a0b-bb3f-e9efbf318ca8",
   "metadata": {},
   "source": [
    "___\n",
    "## Difference between two lists\n",
    "\n",
    "### 1. Using sets"
   ]
  },
  {
   "cell_type": "code",
   "execution_count": 44,
   "id": "58dc0840-f984-4ee5-b22c-28ea63bdf7b6",
   "metadata": {},
   "outputs": [
    {
     "name": "stdout",
     "output_type": "stream",
     "text": [
      "First  List Items =  [1, 2, 4, 6, 8, 9]\n",
      "Second List Items =  [1, 3, 5, 7, 11, 9]\n",
      "Elements in list 1 and not in list 2 [8, 2, 4, 6]\n",
      "Elements in list 2 and not in list 1 [11, 3, 5, 7]\n",
      "List Difference Result =  [8, 2, 4, 6, 11, 3, 5, 7]\n"
     ]
    }
   ],
   "source": [
    "list1 = [1, 2, 4, 6, 8, 9]\n",
    "list2 = [1, 3, 5, 7, 11, 9]\n",
    "\n",
    "print(\"First  List Items = \", list1)\n",
    "print(\"Second List Items = \", list2)\n",
    "\n",
    "diff1 = list(set(list1) - set(list2))\n",
    "diff2 = list(set(list2) - set(list1))\n",
    "print(\"Elements in list 1 and not in list 2\", diff1)\n",
    "print(\"Elements in list 2 and not in list 1\", diff2)\n",
    "\n",
    "actualdiff = diff1 + diff2\n",
    "print(\"List Difference Result = \", actualdiff)"
   ]
  },
  {
   "cell_type": "markdown",
   "id": "286c9225-4634-43e1-9654-216015846b95",
   "metadata": {
    "tags": []
   },
   "source": [
    "### 2. Using for loop and if statements"
   ]
  },
  {
   "cell_type": "code",
   "execution_count": 47,
   "id": "bc867076-4888-4d42-b944-33c3c20a807c",
   "metadata": {},
   "outputs": [
    {
     "name": "stdout",
     "output_type": "stream",
     "text": [
      "First  List Items =  [1, 2, 6, 8, 11, 14]\n",
      "Second List Items =  [2, 3, 11, 9, 7, 14, 22]\n",
      "List Difference =  [1, 6, 8, 3, 9, 7, 22]\n"
     ]
    }
   ],
   "source": [
    "list1 = [1, 2, 6, 8, 11, 14]\n",
    "list2 = [2, 3, 11, 9, 7, 14, 22]\n",
    "\n",
    "print(\"First  List Items = \", list1)\n",
    "print(\"Second List Items = \", list2)\n",
    "\n",
    "List_Difference = []\n",
    "\n",
    "for val in list1 + list2:\n",
    "    if val not in list1 or val not in list2:\n",
    "        List_Difference.append(val)\n",
    "\n",
    "print(\"List Difference = \", List_Difference)"
   ]
  },
  {
   "cell_type": "markdown",
   "id": "9c1e185b-57aa-47aa-9654-66e1795d359d",
   "metadata": {
    "tags": []
   },
   "source": [
    "### 3. Using if statement in list comprehension"
   ]
  },
  {
   "cell_type": "code",
   "execution_count": 48,
   "id": "347d92ff-a3b3-4c6a-bf0c-61603c59c8ec",
   "metadata": {},
   "outputs": [
    {
     "name": "stdout",
     "output_type": "stream",
     "text": [
      "First  List Items =  [3, 4, 6, 7, 8, 11, 22]\n",
      "Second List Items =  [1, 3, 5, 11, 8, 9, 16, 44]\n",
      "List Difference =  [4, 6, 7, 22, 1, 5, 9, 16, 44]\n"
     ]
    }
   ],
   "source": [
    "list1 = [3, 4, 6, 7, 8, 11, 22]\n",
    "list2 = [1, 3, 5, 11, 8, 9, 16, 44]\n",
    "\n",
    "print(\"First  List Items = \", list1)\n",
    "print(\"Second List Items = \", list2)\n",
    "\n",
    "list_diff = [x for x in list1 + list2 if x not in list1 or x not in list2]\n",
    "\n",
    "print(\"List Difference = \", list_diff)"
   ]
  },
  {
   "cell_type": "markdown",
   "id": "e4cba8c2-eedf-4bd8-98cb-d21935fea334",
   "metadata": {},
   "source": [
    "___\n",
    "\n",
    "## Check for Empty List"
   ]
  },
  {
   "cell_type": "code",
   "execution_count": 55,
   "id": "5648f5cc-3931-465a-a4a5-eef2522e1606",
   "metadata": {},
   "outputs": [
    {
     "name": "stdout",
     "output_type": "stream",
     "text": [
      "The List is Empty\n"
     ]
    }
   ],
   "source": [
    "list1 = []\n",
    "\n",
    "if not list1:\n",
    "    print(\"The List is Empty\")\n",
    "else:\n",
    "    print(\"The List is Not Empty\")"
   ]
  },
  {
   "cell_type": "code",
   "execution_count": 56,
   "id": "d1bf9566-2494-4d30-9fd8-e97100d449f5",
   "metadata": {},
   "outputs": [
    {
     "name": "stdout",
     "output_type": "stream",
     "text": [
      "The List is Empty\n"
     ]
    }
   ],
   "source": [
    "list1 = []\n",
    "\n",
    "if len(list1) == 0:\n",
    "    print(\"The List is Empty\")\n",
    "else:\n",
    "    print(\"The List is Not Empty\")"
   ]
  },
  {
   "cell_type": "markdown",
   "id": "4d7dd4a0-e092-4376-9ee2-29fef9d181ed",
   "metadata": {},
   "source": [
    "___\n",
    "\n",
    "## Clone or Copy a List"
   ]
  },
  {
   "cell_type": "code",
   "execution_count": 62,
   "id": "163426d3-9cd1-40dd-93e8-98a6fe1b7ab9",
   "metadata": {},
   "outputs": [
    {
     "name": "stdout",
     "output_type": "stream",
     "text": [
      "Original List Items    =  [10, 20, 40, 60, 70]\n",
      "Original List Datatype =  <class 'list'>\n",
      "New List Items    =  [10, 20, 40, 60, 70]\n",
      "New List Datatype =  <class 'list'>\n"
     ]
    }
   ],
   "source": [
    "# Using list() function\n",
    "\n",
    "orgList = [10, 20, 40, 60, 70]\n",
    "print(\"Original List Items    = \", orgList)\n",
    "print(\"Original List Datatype = \", type(orgList))\n",
    "\n",
    "newList = list(orgList)\n",
    "print(\"New List Items    = \", newList)\n",
    "print(\"New List Datatype = \", type(newList))"
   ]
  },
  {
   "cell_type": "code",
   "execution_count": 67,
   "id": "57ba2dd9-92bc-418f-aae9-b49c0e57d0b0",
   "metadata": {},
   "outputs": [
    {
     "name": "stdout",
     "output_type": "stream",
     "text": [
      "Original List Items =  [24, 44, 54, 64, 76, 85]\n",
      "New List Items      =  [24, 44, 54, 64, 76, 85]\n"
     ]
    }
   ],
   "source": [
    "# Using built-in list.copy()\n",
    "\n",
    "orgList = [24, 44, 54, 64, 76, 85]\n",
    "print(\"Original List Items = \", orgList)\n",
    "\n",
    "newList = orgList.copy()\n",
    "print(\"New List Items      = \", newList)"
   ]
  },
  {
   "cell_type": "code",
   "execution_count": 63,
   "id": "8365aced-b333-48fc-8858-4d868c349172",
   "metadata": {},
   "outputs": [
    {
     "name": "stdout",
     "output_type": "stream",
     "text": [
      "Original List Items =  [10, 20, 40, 60, 70]\n",
      "New List Items      =  [10, 20, 40, 60, 70]\n"
     ]
    }
   ],
   "source": [
    "# Using slicing\n",
    "\n",
    "print(\"Original List Items = \", orgList)\n",
    "\n",
    "newList = orgList[:]\n",
    "print(\"New List Items      = \", newList)"
   ]
  },
  {
   "cell_type": "code",
   "execution_count": 64,
   "id": "ca47fde4-59a1-40f3-96f3-e79c226ca39f",
   "metadata": {},
   "outputs": [
    {
     "name": "stdout",
     "output_type": "stream",
     "text": [
      "Original List Items =  [10, 20, 40, 60, 70]\n",
      "New List Items      =  [10, 20, 40, 60, 70]\n"
     ]
    }
   ],
   "source": [
    "# Using the extend() method of list data type\n",
    "\n",
    "print(\"Original List Items = \", orgList)\n",
    "\n",
    "newList = []\n",
    "newList.extend(orgList)\n",
    "print(\"New List Items      = \", newList)"
   ]
  },
  {
   "cell_type": "code",
   "execution_count": 65,
   "id": "ab836c6b-53b9-481a-9709-9a6377c2dc05",
   "metadata": {},
   "outputs": [
    {
     "name": "stdout",
     "output_type": "stream",
     "text": [
      "Original List Items =  [10, 20, 40, 60, 70]\n",
      "New List Items      =  [10, 20, 40, 60, 70]\n"
     ]
    }
   ],
   "source": [
    "# Using list comprehension\n",
    "\n",
    "print(\"Original List Items = \", orgList)\n",
    "\n",
    "newList = [lVal for lVal in orgList]\n",
    "print(\"New List Items      = \", newList)"
   ]
  },
  {
   "cell_type": "code",
   "execution_count": 66,
   "id": "2996fccd-b66b-46bc-815a-8327a44d8415",
   "metadata": {},
   "outputs": [
    {
     "name": "stdout",
     "output_type": "stream",
     "text": [
      "Original List Items =  [10, 20, 40, 60, 70]\n",
      "New List Items      =  [10, 20, 40, 60, 70]\n",
      "New List Items      =  [10, 20, 40, 60, 70]\n"
     ]
    }
   ],
   "source": [
    "# Using append and for loop\n",
    "\n",
    "print(\"Original List Items = \", orgList)\n",
    "\n",
    "newList = []\n",
    "\n",
    "for lVal in orgList:\n",
    "    newList.append(lVal)\n",
    "print(\"New List Items      = \", newList)\n",
    "\n",
    "newList2 = []\n",
    "\n",
    "for i in range(len(orgList)):\n",
    "    newList2.append(orgList[i])\n",
    "print(\"New List Items      = \", newList2)"
   ]
  },
  {
   "cell_type": "markdown",
   "id": "c30128d4-089b-4aa7-b9d8-856f80e4d59b",
   "metadata": {},
   "source": [
    "___\n",
    "\n",
    "## Count Even and Odd Numbers in a list"
   ]
  },
  {
   "cell_type": "code",
   "execution_count": 71,
   "id": "eb7c8e4a-affe-4ff4-9f82-a69d1d3df0a8",
   "metadata": {},
   "outputs": [
    {
     "name": "stdout",
     "output_type": "stream",
     "text": [
      "\n",
      "Total Number of Even Numbers in this List =   4\n",
      "Total Number of Odd Numbers in this List =  5\n"
     ]
    }
   ],
   "source": [
    "NumList = [1,2,3,4,5,6,7,8,9]\n",
    "Even_count = 0\n",
    "Odd_count = 0\n",
    "\n",
    "for j in range(len(NumList)):\n",
    "    if(NumList[j] % 2 == 0):\n",
    "        Even_count = Even_count + 1\n",
    "    else:\n",
    "        Odd_count = Odd_count + 1\n",
    "\n",
    "print(\"\\nTotal Number of Even Numbers in this List =  \", Even_count)\n",
    "print(\"Total Number of Odd Numbers in this List = \", Odd_count)"
   ]
  },
  {
   "cell_type": "code",
   "execution_count": 73,
   "id": "c55e2cc9-76b6-4510-a225-626f0b001ff7",
   "metadata": {},
   "outputs": [
    {
     "name": "stdout",
     "output_type": "stream",
     "text": [
      "\n",
      "Total Number of Even Numbers in this List =   4\n",
      "Total Number of Odd Numbers in this List =  5\n"
     ]
    }
   ],
   "source": [
    "Even_count = 0\n",
    "Odd_count = 0\n",
    "j = 0\n",
    "Number = len(NumList)\n",
    "\n",
    "while(j < Number):\n",
    "    if(NumList[j] % 2 == 0):\n",
    "        Even_count = Even_count + 1\n",
    "    else:\n",
    "        Odd_count = Odd_count + 1\n",
    "    j = j + 1\n",
    "\n",
    "print(\"\\nTotal Number of Even Numbers in this List =  \", Even_count)\n",
    "print(\"Total Number of Odd Numbers in this List = \", Odd_count)"
   ]
  },
  {
   "cell_type": "code",
   "execution_count": 74,
   "id": "51e6d473-a920-4a52-abf3-248a97fb0441",
   "metadata": {},
   "outputs": [
    {
     "name": "stdout",
     "output_type": "stream",
     "text": [
      "\n",
      "Total Number of Even Numbers in this List =   4\n",
      "Total Number of Odd Numbers in this List =  5\n"
     ]
    }
   ],
   "source": [
    "def count_even(NumList):\n",
    "    Even_count = 0\n",
    "    for j in range(Number):\n",
    "        if(NumList[j] % 2 == 0):\n",
    "            Even_count = Even_count + 1\n",
    "    return Even_count\n",
    "\n",
    "def count_odd(NumList):\n",
    "    Odd_count = 0\n",
    "    for j in range(Number):\n",
    "        if(NumList[j] % 2 != 0):\n",
    "            Odd_count = Odd_count + 1\n",
    "    return Odd_count\n",
    "\n",
    "even_count = count_even(NumList)\n",
    "odd_count = count_odd(NumList)\n",
    "print(\"\\nTotal Number of Even Numbers in this List =  \", even_count)\n",
    "print(\"Total Number of Odd Numbers in this List = \", odd_count)"
   ]
  },
  {
   "cell_type": "markdown",
   "id": "1a4effb0-0f83-42fe-8f6a-c62336032fa8",
   "metadata": {},
   "source": [
    "___\n",
    "\n",
    "## Find Largest and Smallest Number in a List"
   ]
  },
  {
   "cell_type": "markdown",
   "id": "8786d615-a924-4e1a-b93a-8c01fff9321f",
   "metadata": {},
   "source": [
    "### 1. In-bult max() and min() function"
   ]
  },
  {
   "cell_type": "code",
   "execution_count": 88,
   "id": "c497d634-abba-459b-a7a2-6551c1b0e52a",
   "metadata": {},
   "outputs": [
    {
     "name": "stdout",
     "output_type": "stream",
     "text": [
      "The Largest Element in this List is :  120\n",
      "The Smallest Element in this List is :  10\n"
     ]
    }
   ],
   "source": [
    "a = [10, 50, 60, 120, 20, 15]\n",
    "\n",
    "print(\"The Largest Element in this List is : \", max(a))\n",
    "print(\"The Smallest Element in this List is : \", min(a))"
   ]
  },
  {
   "cell_type": "markdown",
   "id": "d93550e0-9c3b-4a53-98bd-1d48423ecd3d",
   "metadata": {
    "tags": []
   },
   "source": [
    "### 2. sort() function\n",
    "Python sort function sort the List elements in ascending order."
   ]
  },
  {
   "cell_type": "code",
   "execution_count": 90,
   "id": "07099b04-c1c6-4360-a5df-48e7519c0bd6",
   "metadata": {},
   "outputs": [
    {
     "name": "stdout",
     "output_type": "stream",
     "text": [
      "The Largest Element in this List is :  120\n",
      "The Largest Element in this List is :  120\n",
      "The Largest Element in this List is :  120\n",
      "\n",
      "The Smallest Element in this List is :  10\n"
     ]
    }
   ],
   "source": [
    "a = [10, 50, 60, 120, 20, 15]\n",
    "\n",
    "a.sort()\n",
    "print(\"The Largest Element in this List is : \", a[5])\n",
    "print(\"The Largest Element in this List is : \", a[-1])\n",
    "print(\"The Largest Element in this List is : \", a[len(a)-1])\n",
    "print(\"\")\n",
    "print(\"The Smallest Element in this List is : \", a[0])"
   ]
  },
  {
   "cell_type": "markdown",
   "id": "2ee5b540-e3b6-4192-83d7-0cd3b435adda",
   "metadata": {
    "tags": []
   },
   "source": [
    "### 3. sort() function and reverse()"
   ]
  },
  {
   "cell_type": "code",
   "execution_count": 92,
   "id": "c9079113-a451-4ff6-ad5d-676e83e3a73c",
   "metadata": {},
   "outputs": [
    {
     "name": "stdout",
     "output_type": "stream",
     "text": [
      "The Largest Element in this List is :  120\n",
      "\n",
      "The Smallest Element in this List is :  10\n"
     ]
    }
   ],
   "source": [
    "a = [10, 50, 60, 120, 20, 15]\n",
    "\n",
    "a.sort()\n",
    "a.reverse()\n",
    "\n",
    "print(\"The Largest Element in this List is : \", a[0])\n",
    "print('')\n",
    "print(\"The Smallest Element in this List is : \", a[-1])"
   ]
  },
  {
   "cell_type": "markdown",
   "id": "c0d22570-86e4-41cc-921b-11bbe0fbd086",
   "metadata": {},
   "source": [
    "### 4. for loop and if statement"
   ]
  },
  {
   "cell_type": "code",
   "execution_count": 95,
   "id": "e46e5244-c6a7-42b1-b664-ec710f5e0a8e",
   "metadata": {},
   "outputs": [
    {
     "name": "stdout",
     "output_type": "stream",
     "text": [
      "The Smallest Element in this List is :  10\n",
      "The Index position of Smallest Element in this List is :  1\n",
      "The Largest Element in this List is :  120\n",
      "The Index position of the Largest Element is :  3\n"
     ]
    }
   ],
   "source": [
    "a = [10, 50, 60, 120, 20, 15]\n",
    "\n",
    "largest = a[0]  \n",
    "smallest = a[0]\n",
    "for j in range(1, len(a)):\n",
    "    if(smallest > a[j]):\n",
    "        smallest = a[j]\n",
    "        min_position = j\n",
    "    if(largest < a[j]):\n",
    "        largest = a[j]\n",
    "        max_position = j\n",
    "\n",
    "print(\"The Smallest Element in this List is : \", smallest)\n",
    "print(\"The Index position of Smallest Element in this List is : \", min_position)\n",
    "print(\"The Largest Element in this List is : \", largest)\n",
    "print(\"The Index position of the Largest Element is : \", max_position)"
   ]
  },
  {
   "cell_type": "code",
   "execution_count": 113,
   "id": "6726a1fa-4f4c-4bc9-a91a-9872b4d13028",
   "metadata": {},
   "outputs": [
    {
     "name": "stdout",
     "output_type": "stream",
     "text": [
      "The Smallest Element in this List is :  10\n",
      "The Index position of Smallest Element in this List is :  1\n",
      "The Largest Element in this List is :  60\n",
      "The Index position of the Largest Element is :  5\n"
     ]
    }
   ],
   "source": [
    "largest = a[0]    \n",
    "for j,value in enumerate(a[1:]):\n",
    "    if(smallest > value):\n",
    "        smallest = value\n",
    "        min_position = j\n",
    "    if(largest < value):\n",
    "        largest = value\n",
    "        max_position = j+1\n",
    "\n",
    "print(\"The Smallest Element in this List is : \", smallest)\n",
    "print(\"The Index position of Smallest Element in this List is : \", min_position)\n",
    "\n",
    "print(\"The Largest Element in this List is : \", largest)\n",
    "print(\"The Index position of the Largest Element is : \", max_position)"
   ]
  },
  {
   "cell_type": "markdown",
   "id": "5edcdd95-5634-4181-896c-6affd1e58b1c",
   "metadata": {},
   "source": [
    "___\n",
    "\n",
    "## Find List Items Greater Than Average"
   ]
  },
  {
   "cell_type": "code",
   "execution_count": 115,
   "id": "9d254c8d-55b0-49d8-86bf-72889a3f8fdc",
   "metadata": {},
   "outputs": [
    {
     "name": "stdout",
     "output_type": "stream",
     "text": [
      "\n",
      "List Sum = 45 and Average = 4.5\n",
      "Total List Items Greater than the List Average\n",
      "5 6 7 8 9 "
     ]
    }
   ],
   "source": [
    "List = [0,1,2,3,4,5,6,7,8,9]\n",
    "\n",
    "Total = sum(List)\n",
    "Number = len(List)\n",
    "\n",
    "avg = Total / Number\n",
    "\n",
    "print('\\nList Sum = {0} and Average = {1}'.format(Total, avg))\n",
    "\n",
    "print('Total List Items Greater than the List Average')\n",
    "for i in range(len(listAvg)):\n",
    "    if listAvg[i] > avg:\n",
    "        print(listAvg[i], end = ' ')"
   ]
  },
  {
   "cell_type": "code",
   "execution_count": 116,
   "id": "fa339e93-6a1f-4d16-977f-22db0eb5141a",
   "metadata": {},
   "outputs": [
    {
     "name": "stdin",
     "output_type": "stream",
     "text": [
      "Total Number of List Items =  10\n",
      "Enter the 1 List Item =  0\n",
      "Enter the 2 List Item =  1\n",
      "Enter the 3 List Item =  2\n",
      "Enter the 4 List Item =  3\n",
      "Enter the 5 List Item =  4\n",
      "Enter the 6 List Item =  5\n",
      "Enter the 7 List Item =  6\n",
      "Enter the 8 List Item =  7\n",
      "Enter the 9 List Item =  8\n",
      "Enter the 10 List Item =  9\n"
     ]
    },
    {
     "name": "stdout",
     "output_type": "stream",
     "text": [
      "\n",
      "List Sum = 45 and Average = 4.5\n",
      "List Items Greater than the List Average\n",
      "5 6 7 8 9 "
     ]
    }
   ],
   "source": [
    "listAvg = []\n",
    "Number = int(input(\"Total Number of List Items = \"))\n",
    "\n",
    "total = 0\n",
    "i = 1\n",
    "while(i <= Number):\n",
    "    value = int(input(\"Enter the {} List Item = \".format(i)))\n",
    "    listAvg.append(value)\n",
    "    i = i + 1\n",
    "    \n",
    "\n",
    "i = 0\n",
    "while(i < Number):\n",
    "    total = total + listAvg[i]\n",
    "    i = i + 1\n",
    "\n",
    "avg = total / Number\n",
    "\n",
    "print('\\nList Sum = {0} and Average = {1}'.format(total, avg))\n",
    "\n",
    "print('List Items Greater than the List Average')\n",
    "for i in range(len(listAvg)):\n",
    "    if listAvg[i] > avg:\n",
    "        print(listAvg[i], end = ' ')"
   ]
  },
  {
   "cell_type": "markdown",
   "id": "2349a6bc-af83-48ef-b3de-02083030312e",
   "metadata": {},
   "source": [
    "___\n",
    "\n",
    "## Print List Items at Even Position"
   ]
  },
  {
   "cell_type": "code",
   "execution_count": 118,
   "id": "eb006d55-eb6f-4579-85d7-e0761ba58060",
   "metadata": {},
   "outputs": [
    {
     "name": "stdout",
     "output_type": "stream",
     "text": [
      "Printing the List Items at Even Position\n",
      "[6, 11, 15, 19]\n"
     ]
    }
   ],
   "source": [
    "List = [3, 6, 9, 11, 13, 15, 17, 19]\n",
    "length = len(List)\n",
    "\n",
    "print('Printing the List Items at Even Position')\n",
    "print(List[1:length:2])"
   ]
  },
  {
   "cell_type": "code",
   "execution_count": 119,
   "id": "e16157d3-0269-446f-9304-e4d76263a5c5",
   "metadata": {},
   "outputs": [
    {
     "name": "stdout",
     "output_type": "stream",
     "text": [
      "Printing the List Items at Even Position\n",
      "6  11  15  19  "
     ]
    }
   ],
   "source": [
    "print('Printing the List Items at Even Position')\n",
    "for i in range(1, length, 2):\n",
    "    print(List[i], end = '  ')"
   ]
  },
  {
   "cell_type": "code",
   "execution_count": 120,
   "id": "936c8a03-dd66-49af-8f79-3b4370322758",
   "metadata": {},
   "outputs": [
    {
     "name": "stdout",
     "output_type": "stream",
     "text": [
      "Printing the List Items at Even Position\n",
      "6  11  15  19  "
     ]
    }
   ],
   "source": [
    "print('Printing the List Items at Even Position')\n",
    "i = 1\n",
    "while i < len(List):\n",
    "    print(List[i], end = '  ')\n",
    "    i = i + 2"
   ]
  },
  {
   "cell_type": "code",
   "execution_count": 122,
   "id": "3ac77048-7ba5-46c0-8baa-184df4b71383",
   "metadata": {},
   "outputs": [
    {
     "name": "stdout",
     "output_type": "stream",
     "text": [
      "\n",
      "Printing the List Items at Even Position\n",
      "6  11  15  19  "
     ]
    }
   ],
   "source": [
    "print('\\nPrinting the List Items at Even Position')\n",
    "for i in range(length):\n",
    "    if i % 2 != 0:\n",
    "        print(List[i], end = '  ')"
   ]
  },
  {
   "cell_type": "markdown",
   "id": "76dffe17-44a2-4069-b789-8855ae76d56f",
   "metadata": {},
   "source": [
    "___\n",
    "\n",
    "## Print Even and Odd Numbers in a List"
   ]
  },
  {
   "cell_type": "code",
   "execution_count": 127,
   "id": "833ba92e-6a2d-409e-90e3-06de1a830132",
   "metadata": {},
   "outputs": [
    {
     "name": "stdout",
     "output_type": "stream",
     "text": [
      "\n",
      "Even Numbers in this List are : \n",
      "2   4   6   8   10   \n",
      "Odd Numbers in this List are : \n",
      "1   3   5   7   9   "
     ]
    }
   ],
   "source": [
    "NumList = [1,2,3,4,5,6,7,8,9,10]\n",
    "Number = len(NumList)\n",
    "\n",
    "print(\"\\nEven Numbers in this List are : \")\n",
    "for j in range(Number):\n",
    "    if(NumList[j] % 2 == 0):\n",
    "        print(NumList[j], end = '   ')\n",
    "        \n",
    "print(\"\\nOdd Numbers in this List are : \")\n",
    "for j in range(Number):\n",
    "    if(NumList[j] % 2 != 0):\n",
    "        print(NumList[j], end = '   ')"
   ]
  },
  {
   "cell_type": "code",
   "execution_count": 129,
   "id": "2a51a542-dcd6-4327-8e72-1c6908327df4",
   "metadata": {},
   "outputs": [
    {
     "name": "stdout",
     "output_type": "stream",
     "text": [
      "\n",
      "Even Numbers in this List are : \n",
      "2   4   6   8   10   \n",
      "Odd Numbers in this List are : \n",
      "1   3   5   7   9   "
     ]
    }
   ],
   "source": [
    "print(\"\\nEven Numbers in this List are : \")\n",
    "j=0\n",
    "while(j < Number):\n",
    "    if(NumList[j] % 2 == 0):\n",
    "        print(NumList[j], end = '   ')\n",
    "    j = j + 1\n",
    "    \n",
    "i=0\n",
    "print(\"\\nOdd Numbers in this List are : \")\n",
    "while(i < Number):\n",
    "    if(NumList[i] % 2 != 0):\n",
    "        print(NumList[i], end = '   ')\n",
    "    i = i + 1"
   ]
  },
  {
   "cell_type": "code",
   "execution_count": 130,
   "id": "f12d93a7-448b-4965-beac-a5f878b5f417",
   "metadata": {},
   "outputs": [
    {
     "name": "stdout",
     "output_type": "stream",
     "text": [
      "\n",
      "Even Numbers in this List are : \n",
      "2   4   6   8   10   \n",
      "Odd Numbers in this List are : \n",
      "1   3   5   7   9   "
     ]
    }
   ],
   "source": [
    "def even_numbers(NumList):\n",
    "    for j in range(Number):\n",
    "        if(NumList[j] % 2 == 0):\n",
    "            print(NumList[j], end = '   ')\n",
    "            \n",
    "def odd_numbers(NumList):\n",
    "    for j in range(Number):\n",
    "        if(NumList[j] % 2 != 0):\n",
    "            print(NumList[j], end = '   ')\n",
    "\n",
    "            \n",
    "print(\"\\nEven Numbers in this List are : \")\n",
    "even_numbers(NumList)\n",
    "\n",
    "print(\"\\nOdd Numbers in this List are : \")\n",
    "odd_numbers(NumList)"
   ]
  },
  {
   "cell_type": "markdown",
   "id": "59daba85-3f41-420e-8ebe-44ca4a8eeebd",
   "metadata": {},
   "source": [
    "___\n",
    "\n",
    "## Put Even and Odd numbers in Separate Lists"
   ]
  },
  {
   "cell_type": "code",
   "execution_count": 132,
   "id": "4c9b1130-c4a1-41b8-91e6-194ad24c04f2",
   "metadata": {},
   "outputs": [
    {
     "name": "stdout",
     "output_type": "stream",
     "text": [
      "Element in Even List is :  [2, 4, 6, 8, 10]\n",
      "Element in Odd List is :  [1, 3, 5, 7, 9]\n"
     ]
    }
   ],
   "source": [
    "NumList = [1,2,3,4,5,6,7,8,9,10]\n",
    "\n",
    "Even = []\n",
    "Odd = []\n",
    "\n",
    "for j in range(Number):\n",
    "    if(NumList[j] % 2 == 0):\n",
    "        Even.append(NumList[j])\n",
    "    else:\n",
    "        Odd.append(NumList[j])\n",
    "\n",
    "print(\"Element in Even List is : \", Even)\n",
    "print(\"Element in Odd List is : \", Odd)"
   ]
  },
  {
   "cell_type": "code",
   "execution_count": 133,
   "id": "b71d7f30-74b3-4c76-b879-6b63dd25d677",
   "metadata": {},
   "outputs": [
    {
     "name": "stdout",
     "output_type": "stream",
     "text": [
      "Element in Even List is :  [2, 4, 6, 8, 10]\n",
      "Element in Odd List is :  [1, 3, 5, 7, 9]\n"
     ]
    }
   ],
   "source": [
    "Even = []\n",
    "Odd = []\n",
    "j = 0\n",
    "\n",
    "while(j < Number):\n",
    "    if(NumList[j] % 2 == 0):\n",
    "        Even.append(NumList[j])\n",
    "    else:\n",
    "        Odd.append(NumList[j])\n",
    "    j = j + 1\n",
    "\n",
    "print(\"Element in Even List is : \", Even)\n",
    "print(\"Element in Odd List is : \", Odd)"
   ]
  },
  {
   "cell_type": "code",
   "execution_count": 134,
   "id": "9fee6847-b571-4e8e-849a-72cc4fdd18e1",
   "metadata": {},
   "outputs": [
    {
     "name": "stdout",
     "output_type": "stream",
     "text": [
      "Element in Even List is :  [2, 4, 6, 8, 10]\n",
      "Element in Odd List is :  [1, 3, 5, 7, 9]\n"
     ]
    }
   ],
   "source": [
    "def even_numbers(NumList):\n",
    "    Even = []\n",
    "    for j in range(Number):\n",
    "        if(NumList[j] % 2 == 0):\n",
    "            Even.append(NumList[j])\n",
    "\n",
    "    print(\"Element in Even List is : \", Even)\n",
    "\n",
    "def odd_numbers(NumList):\n",
    "    Odd = []\n",
    "    for j in range(Number):\n",
    "        if(NumList[j] % 2 != 0):\n",
    "            Odd.append(NumList[j])\n",
    "\n",
    "    print(\"Element in Odd List is : \", Odd)\n",
    "      \n",
    "even_numbers(NumList)\n",
    "odd_numbers(NumList)"
   ]
  },
  {
   "cell_type": "markdown",
   "id": "7ede60db-dea3-4deb-8d6e-5add73224ad8",
   "metadata": {},
   "source": [
    "___\n",
    "\n",
    "## Remove Duplicates from List"
   ]
  },
  {
   "cell_type": "markdown",
   "id": "8efa26e0-f742-4e8e-a522-97f29db855b8",
   "metadata": {},
   "source": [
    "### 1. Using set()"
   ]
  },
  {
   "cell_type": "code",
   "execution_count": 136,
   "id": "88b11a5f-19b0-4cfe-9d07-aedb9ffb1ee8",
   "metadata": {},
   "outputs": [
    {
     "name": "stdout",
     "output_type": "stream",
     "text": [
      "List Items =  [1, 2, 3, 2, 4, 8, 9, 1, 7, 6, 4, 5]\n",
      "List Items after removing dDuplicates =  [1, 2, 3, 4, 5, 6, 7, 8, 9]\n"
     ]
    }
   ],
   "source": [
    "dupList = [1, 2, 3, 2, 4, 8, 9, 1, 7, 6, 4, 5]\n",
    "print(\"List Items = \", dupList)\n",
    "\n",
    "uniqSet = set(dupList)\n",
    "uniqList = list(uniqSet)\n",
    "   \n",
    "print(\"List Items after removing dDuplicates = \", uniqList)"
   ]
  },
  {
   "cell_type": "markdown",
   "id": "4502228b-3b0d-43b5-8f40-d5f839a08241",
   "metadata": {},
   "source": [
    "### 2. Using for loop anf if statement"
   ]
  },
  {
   "cell_type": "code",
   "execution_count": 137,
   "id": "3d8ec06d-da70-426b-b7fd-4a745b557dea",
   "metadata": {},
   "outputs": [
    {
     "name": "stdout",
     "output_type": "stream",
     "text": [
      "List Items =  [1, 2, 3, 2, 4, 8, 9, 1, 7, 6, 4, 5]\n",
      "List Items after removing Duplicates =  [1, 2, 3, 4, 8, 9, 7, 6, 5]\n"
     ]
    }
   ],
   "source": [
    "print(\"List Items = \", dupList)\n",
    "\n",
    "uniqList = []\n",
    "\n",
    "for val in dupList:\n",
    "    if val not in uniqList:\n",
    "        uniqList.append(val)\n",
    "   \n",
    "print(\"List Items after removing Duplicates = \", uniqList)"
   ]
  },
  {
   "cell_type": "markdown",
   "id": "0b921b0c-bea1-47b9-8231-b30d9d7cf3cc",
   "metadata": {},
   "source": [
    "### 3. Using List Comprehension"
   ]
  },
  {
   "cell_type": "code",
   "execution_count": 138,
   "id": "50cfac36-2797-45a4-a597-68766b3f05d0",
   "metadata": {},
   "outputs": [
    {
     "name": "stdout",
     "output_type": "stream",
     "text": [
      "List Items =  [1, 2, 3, 2, 4, 8, 9, 1, 7, 6, 4, 5]\n",
      "List Items after removing Duplicates =  [1, 2, 3, 4, 8, 9, 7, 6, 5]\n"
     ]
    }
   ],
   "source": [
    "print(\"List Items = \", dupList)\n",
    "\n",
    "uniqList = []\n",
    "[uniqList.append(i) for i in dupList if i not in uniqList]\n",
    "\n",
    "print(\"List Items after removing Duplicates = \", uniqList)"
   ]
  },
  {
   "cell_type": "markdown",
   "id": "b4f08d6f-7892-4962-a319-2c903ae32b2b",
   "metadata": {},
   "source": [
    "### 4. Using OrderedDict from collections library"
   ]
  },
  {
   "cell_type": "code",
   "execution_count": 139,
   "id": "3313aba7-04e6-44ce-9a2c-137facfd2749",
   "metadata": {},
   "outputs": [],
   "source": [
    "from collections import OrderedDict"
   ]
  },
  {
   "cell_type": "code",
   "execution_count": 140,
   "id": "bbfd0c8f-49ef-492a-80e7-987f3276e9cd",
   "metadata": {},
   "outputs": [
    {
     "name": "stdout",
     "output_type": "stream",
     "text": [
      "List Items =  [1, 2, 3, 2, 4, 8, 9, 1, 7, 6, 4, 5]\n",
      "List Items after removing Duplicates =  [1, 2, 3, 4, 8, 9, 7, 6, 5]\n"
     ]
    }
   ],
   "source": [
    "print(\"List Items = \", dupList)\n",
    "\n",
    "uniqList = OrderedDict.fromkeys(dupList)\n",
    "\n",
    "print(\"List Items after removing Duplicates = \", list(uniqList))"
   ]
  },
  {
   "cell_type": "markdown",
   "id": "2d1390ff-4ec5-4d49-91a6-6979ae2f9b40",
   "metadata": {},
   "source": [
    "### 5. Unique() function in numpy and pandas libararies\n",
    "\n",
    "Both the numpy and pandas module has the unique function to remove duplicates, so we used the same and converted the result to a list. To convert the result, we used the tolist() function."
   ]
  },
  {
   "cell_type": "code",
   "execution_count": 141,
   "id": "61896eb6-a5b4-41a1-bdf3-a693eb9e8349",
   "metadata": {},
   "outputs": [],
   "source": [
    "import numpy as np\n",
    "import pandas as pd"
   ]
  },
  {
   "cell_type": "code",
   "execution_count": 142,
   "id": "6fb03c6a-5c3b-46e2-945c-61c51cc25324",
   "metadata": {},
   "outputs": [
    {
     "name": "stdout",
     "output_type": "stream",
     "text": [
      "List Items =  [1, 2, 3, 2, 4, 8, 9, 1, 7, 6, 4, 5]\n",
      "List Items after removing Duplicates =  [1, 2, 3, 4, 5, 6, 7, 8, 9]\n",
      "List Items after removing Duplicates =  [1, 2, 3, 4, 8, 9, 7, 6, 5]\n"
     ]
    }
   ],
   "source": [
    "print(\"List Items = \", dupList)\n",
    "\n",
    "uniqList = np.unique(dupList).tolist()\n",
    "print(\"List Items after removing Duplicates = \", uniqList)\n",
    "\n",
    "uniqList2 = pd.unique(dupList).tolist()\n",
    "print(\"List Items after removing Duplicates = \", uniqList2)"
   ]
  },
  {
   "cell_type": "markdown",
   "id": "5113f3e6-c567-459b-8b48-6466f02ab3f7",
   "metadata": {},
   "source": [
    "### 6. Using enumerate() and list comprehension"
   ]
  },
  {
   "cell_type": "code",
   "execution_count": 143,
   "id": "11c09035-4a07-44c7-afc0-63b20185f325",
   "metadata": {},
   "outputs": [
    {
     "name": "stdout",
     "output_type": "stream",
     "text": [
      "List Items =  [1, 2, 3, 2, 4, 8, 9, 1, 7, 6, 4, 5]\n",
      "List Items after removing Duplicates =  [1, 2, 3, 4, 8, 9, 7, 6, 5]\n"
     ]
    }
   ],
   "source": [
    "print(\"List Items = \", dupList)\n",
    "\n",
    "uniqList = [val for x, val in enumerate(dupList) if val not in dupList[:x]]\n",
    "\n",
    "print(\"List Items after removing Duplicates = \", uniqList)"
   ]
  },
  {
   "cell_type": "markdown",
   "id": "f68051ed-9b55-4843-af2a-46fc9c5834e9",
   "metadata": {},
   "source": [
    "___\n",
    "\n",
    "## Remove Even Numbers in a List"
   ]
  },
  {
   "cell_type": "markdown",
   "id": "06f5cdd0-515b-49eb-8cb8-dc62a93fa68b",
   "metadata": {},
   "source": [
    "### 1. Using list.remove() and for loop"
   ]
  },
  {
   "cell_type": "code",
   "execution_count": 144,
   "id": "9c9484bf-54f3-4594-a9d6-c46a245b3a73",
   "metadata": {},
   "outputs": [
    {
     "name": "stdout",
     "output_type": "stream",
     "text": [
      "List Items =  [11, 22, 31, 44, 51, 65, 71, 82, 91]\n",
      "List Items after removing even Items =  [11, 31, 51, 65, 71, 91]\n"
     ]
    }
   ],
   "source": [
    "evenList = [11, 22, 31, 44, 51, 65, 71, 82, 91]\n",
    "print(\"List Items = \", evenList)\n",
    "\n",
    "for ev in evenList:\n",
    "    if (ev % 2 == 0):\n",
    "        evenList.remove(ev)\n",
    "    \n",
    "print(\"List Items after removing even Items = \", evenList)"
   ]
  },
  {
   "cell_type": "markdown",
   "id": "99bdbd01-3040-432b-b8fe-0d514e38fef8",
   "metadata": {},
   "source": [
    "### 2. Using list.remove() and while loop"
   ]
  },
  {
   "cell_type": "code",
   "execution_count": 147,
   "id": "ba981c90-1c25-4be9-9723-65837110c069",
   "metadata": {},
   "outputs": [
    {
     "name": "stdout",
     "output_type": "stream",
     "text": [
      "List Items =  [11, 22, 31, 44, 51, 65, 71, 82, 91]\n",
      "List Items after removing even Items =  [11, 31, 51, 65, 71, 91]\n"
     ]
    }
   ],
   "source": [
    "evenList = [11, 22, 31, 44, 51, 65, 71, 82, 91]\n",
    "print(\"List Items = \", evenList)\n",
    "i = 0\n",
    "\n",
    "while (i < len(evenList)):\n",
    "    if (evenList[i] % 2 == 0):\n",
    "        evenList.remove(evenList[i])\n",
    "    i = i + 1\n",
    "    \n",
    "print(\"List Items after removing even Items = \", evenList)"
   ]
  },
  {
   "cell_type": "markdown",
   "id": "0b847068-6ed4-4563-ab4e-195a59a7e644",
   "metadata": {},
   "source": [
    "### 3. Using list.remove() and list comprehension"
   ]
  },
  {
   "cell_type": "code",
   "execution_count": 148,
   "id": "d17d57ce-85a0-421d-9d3e-4e197d3c052b",
   "metadata": {},
   "outputs": [
    {
     "name": "stdout",
     "output_type": "stream",
     "text": [
      "List Items =  [11, 22, 31, 44, 51, 65, 71, 82, 91]\n",
      "List Items after removing even Items =  [11, 31, 51, 65, 71, 91]\n"
     ]
    }
   ],
   "source": [
    "evenList = [11, 22, 31, 44, 51, 65, 71, 82, 91]\n",
    "print(\"List Items = \", evenList)\n",
    "\n",
    "evenList = [ev for ev in evenList if ev % 2 != 0]    \n",
    "print(\"List Items after removing even Items = \", evenList)"
   ]
  },
  {
   "cell_type": "markdown",
   "id": "33124373-d6fa-4f80-84b3-a405e8c2fb8b",
   "metadata": {},
   "source": [
    "### 4. Using list(), filter() and lambda functions\n",
    "\n",
    "The filter(function, sequence) method filters the given sequence with the help of a function that tests each element in the sequence to be true or not."
   ]
  },
  {
   "cell_type": "code",
   "execution_count": 149,
   "id": "a8df1300-62b4-475e-928f-21ade61f5e31",
   "metadata": {},
   "outputs": [
    {
     "name": "stdout",
     "output_type": "stream",
     "text": [
      "List Items =  [11, 22, 31, 44, 51, 65, 71, 82, 91]\n",
      "List Items after removing even Items =  [11, 31, 51, 65, 71, 91]\n"
     ]
    }
   ],
   "source": [
    "evenList = [11, 22, 31, 44, 51, 65, 71, 82, 91]\n",
    "print(\"List Items = \", evenList)\n",
    "\n",
    "oddList = list(filter(lambda x : (x % 2 != 0), evenList))    \n",
    "print(\"List Items after removing even Items = \", oddList)"
   ]
  },
  {
   "cell_type": "markdown",
   "id": "b74cac90-2813-4db0-866f-a5586ec831c1",
   "metadata": {},
   "source": [
    "___\n",
    "\n",
    "## Find the Second Largest Number in a List\n",
    "\n",
    "### 1. Using set(), list.remove() and max()"
   ]
  },
  {
   "cell_type": "code",
   "execution_count": 171,
   "id": "bd971ee2-23b2-4664-bf0a-85334a66e25b",
   "metadata": {},
   "outputs": [
    {
     "name": "stdout",
     "output_type": "stream",
     "text": [
      "The Second Largest Element in this List is :  45\n"
     ]
    }
   ],
   "source": [
    "list1 = [10, 20, 4, 45, 99, 99]\n",
    "\n",
    "list2 = set(list1)\n",
    "list2.remove(max(list2)) # Note that this is actually a set.\n",
    "print(\"The Second Largest Element in this List is : \",max(list2))"
   ]
  },
  {
   "cell_type": "markdown",
   "id": "4d99b8f4-616b-4fed-8870-bb38e2708b7d",
   "metadata": {},
   "source": [
    "### 2. Using set() and list()"
   ]
  },
  {
   "cell_type": "code",
   "execution_count": 175,
   "id": "8e9f24f0-f247-40a5-8635-4001cc0a7c15",
   "metadata": {},
   "outputs": [
    {
     "name": "stdout",
     "output_type": "stream",
     "text": [
      "The Second Largest Element in this List is :  45\n"
     ]
    }
   ],
   "source": [
    "list1 = [10, 20, 4, 45, 99, 99]\n",
    "\n",
    "temp_list = list(set(list1))\n",
    "Num = temp_list[-2]\n",
    "print(\"The Second Largest Element in this List is : \",Num)"
   ]
  },
  {
   "cell_type": "markdown",
   "id": "44722100-0612-4771-ae89-34faa982fb1f",
   "metadata": {},
   "source": [
    "### 3. Using for loop and if"
   ]
  },
  {
   "cell_type": "code",
   "execution_count": 182,
   "id": "55454b8a-eb88-4813-8025-4fdeff7a58c7",
   "metadata": {},
   "outputs": [
    {
     "name": "stdout",
     "output_type": "stream",
     "text": [
      "The Second Largest Element in this List is :  45\n"
     ]
    }
   ],
   "source": [
    "list1 = [10, 20, 4, 45, 99, 99]\n",
    "\n",
    "secondLargest = list1[0]\n",
    "largest = list1[0]\n",
    "for i in range(len(list1)):\n",
    "    if list1[i] > largest:\n",
    "        largest = list1[i]\n",
    "\n",
    "for i in range(len(list1)):\n",
    "    if list1[i] > secondLargest and list1[i] != largest:\n",
    "        secondLargest = list1[i]\n",
    "        \n",
    "print(\"The Second Largest Element in this List is : \",secondLargest)"
   ]
  },
  {
   "cell_type": "code",
   "execution_count": 184,
   "id": "91f1d930-1b56-4d11-8561-61fcae63fe73",
   "metadata": {},
   "outputs": [
    {
     "name": "stdout",
     "output_type": "stream",
     "text": [
      "The Largest Element in this List is :  99\n",
      "The Second Largest Element in this List is :  45\n"
     ]
    }
   ],
   "source": [
    "list1 = [10, 20, 4, 45, 99, 99]\n",
    "\n",
    "first = second = list1[0]\n",
    "for j in range(1, len(list1)):\n",
    "    if(list1[j] > first):\n",
    "        second = first\n",
    "        first = list1[j]\n",
    "    elif(list1[j] > second and list1[j] < first):\n",
    "        second = list1[j]\n",
    "        \n",
    "\n",
    "print(\"The Largest Element in this List is : \", first)\n",
    "print(\"The Second Largest Element in this List is : \", second)"
   ]
  },
  {
   "cell_type": "markdown",
   "id": "3f2da21c-46d1-4257-9625-c6e1ef11c633",
   "metadata": {},
   "source": [
    "### 4. Using list.sort() and list.reverse()"
   ]
  },
  {
   "cell_type": "code",
   "execution_count": 186,
   "id": "673b5221-09ea-465e-a356-617ca6d5c85e",
   "metadata": {},
   "outputs": [
    {
     "name": "stdout",
     "output_type": "stream",
     "text": [
      "The Largest Element in this List is :  45\n"
     ]
    }
   ],
   "source": [
    "list1 = [10, 20, 4, 45, 99]\n",
    "\n",
    "list1.sort()\n",
    "\n",
    "print(\"The Largest Element in this List is : \", list1[len(list1) - 2])"
   ]
  },
  {
   "cell_type": "code",
   "execution_count": 189,
   "id": "7f9b5ac6-ec94-4a46-8a0c-a37f7373a7bd",
   "metadata": {},
   "outputs": [
    {
     "name": "stdout",
     "output_type": "stream",
     "text": [
      "The Largest Element in this List is :  45\n"
     ]
    }
   ],
   "source": [
    "list1 = [10, 20, 4, 45, 99]\n",
    "\n",
    "list1.sort()\n",
    "list1.reverse()\n",
    "\n",
    "print(\"The Largest Element in this List is : \", list1[1])"
   ]
  },
  {
   "cell_type": "markdown",
   "id": "6dd01a62-1226-4e1d-975d-7ce1550cb36e",
   "metadata": {},
   "source": [
    "___\n",
    "## Sort List Items in Descending Order\n",
    "\n",
    "### 1. Using list.sort() and list.reverse()"
   ]
  },
  {
   "cell_type": "code",
   "execution_count": 191,
   "id": "927c1bc0-a60f-4445-abbd-bf8af8f476c0",
   "metadata": {},
   "outputs": [
    {
     "name": "stdout",
     "output_type": "stream",
     "text": [
      "List Items After Sorting in Descending Order\n",
      "[9, 8, 7, 6, 5, 4, 3, 2, 1]\n"
     ]
    }
   ],
   "source": [
    "int_list = [5,4,9,7,3,1,6,8,2]\n",
    "\n",
    "int_list.sort()\n",
    "int_list.reverse()\n",
    "\n",
    "print('List Items After Sorting in Descending Order')\n",
    "print(int_list)"
   ]
  },
  {
   "cell_type": "markdown",
   "id": "b1f789db-f06c-4e37-856d-a5c1a84ba5d8",
   "metadata": {},
   "source": [
    "### 2. Using nested for loop and temporary variables"
   ]
  },
  {
   "cell_type": "code",
   "execution_count": 202,
   "id": "473ef247-06d4-4d9c-9d1f-fed75d698627",
   "metadata": {},
   "outputs": [
    {
     "name": "stdout",
     "output_type": "stream",
     "text": [
      "List Items After Sorting in Descending Order\n",
      " [9, 8, 7, 6, 5, 4, 3, 2, 1]\n"
     ]
    }
   ],
   "source": [
    "intlist = [5,4,9,7,3,1,6,8,2]\n",
    "\n",
    "for i in range(len(intlist)):\n",
    "    for j in range(i + 1, len(intlist)):\n",
    "        if(intlist[i] < intlist[j]):\n",
    "            temp = intlist[i]\n",
    "            intlist[i] = intlist[j]\n",
    "            intlist[j] = temp\n",
    "    \n",
    "print('List Items After Sorting in Descending Order\\n',intlist)"
   ]
  },
  {
   "cell_type": "markdown",
   "id": "2a5e3d76-6c2e-42bc-9d75-e18d00601f85",
   "metadata": {},
   "source": [
    "### 3. Using nested while loops and temporary variables"
   ]
  },
  {
   "cell_type": "code",
   "execution_count": 203,
   "id": "a868aff3-793e-4f10-8fa6-e51b63b95762",
   "metadata": {},
   "outputs": [
    {
     "name": "stdout",
     "output_type": "stream",
     "text": [
      "List Items After Sorting in Descending Order\n",
      " [9, 8, 7, 6, 5, 4, 3, 2, 1]\n"
     ]
    }
   ],
   "source": [
    "intlist = [5,4,9,7,3,1,6,8,2]\n",
    "\n",
    "i = 0\n",
    "while(i < len(intlist)):\n",
    "    j = i + 1\n",
    "    while j < len(intlist):\n",
    "        if(intlist[i] < intlist[j]):\n",
    "            temp = intlist[i]\n",
    "            intlist[i] = intlist[j]\n",
    "            intlist[j] = temp\n",
    "        j = j + 1\n",
    "    i = i + 1\n",
    "    \n",
    "print('List Items After Sorting in Descending Order\\n',intlist)"
   ]
  },
  {
   "cell_type": "markdown",
   "id": "941f5373-98cd-47ef-90e8-13d43874d1d7",
   "metadata": {},
   "source": [
    "___\n",
    "\n",
    "## Left/Right Rotate a List by n"
   ]
  },
  {
   "cell_type": "code",
   "execution_count": 222,
   "id": "84268372-f931-4403-aa27-b6c13634126f",
   "metadata": {},
   "outputs": [
    {
     "name": "stdin",
     "output_type": "stream",
     "text": [
      "Enter Position to Left Rotate List Items =  3\n"
     ]
    },
    {
     "name": "stdout",
     "output_type": "stream",
     "text": [
      "\n",
      "Original List Items Before Rotating\n",
      "[10, 20, 30, 40, 50, 60, 70, 80, 90, 100]\n",
      "\n",
      "Final List Items After Left Rotating\n",
      "[40, 50, 60, 70, 80, 10, 20, 30, 100, 100]\n",
      "\n",
      "Final List Items After Right Rotating\n",
      "[80, 90, 100, 10, 20, 30, 40, 50, 60, 70]\n"
     ]
    }
   ],
   "source": [
    "List_ = [10, 20, 30, 40, 50, 60, 70, 80, 90, 100]\n",
    "\n",
    "Rotate = int(input(\"Enter Position to Left Rotate List Items = \"))\n",
    "\n",
    "print('\\nOriginal List Items Before Rotating')\n",
    "print(List_)\n",
    "\n",
    "List=List_.copy()\n",
    "for i in range(Rotate):\n",
    "    firstValue = List[0]\n",
    "    for j in range(len(List) - 1):\n",
    "        List[j] = List[j + 1]\n",
    "    List[len(ltList) - 1] = firstValue\n",
    "\n",
    "print('\\nFinal List Items After Left Rotating')\n",
    "print(List)\n",
    "\n",
    "List = List_.copy()\n",
    "l = len(List)-1\n",
    "for i in range(Rotate):\n",
    "    lastValue = List[l]\n",
    "    for j in range(l, -1 ,-1):\n",
    "        List[j] = List[j - 1]\n",
    "    List[0] = lastValue\n",
    "\n",
    "print('\\nFinal List Items After Right Rotating')\n",
    "print(List)"
   ]
  },
  {
   "cell_type": "code",
   "execution_count": 216,
   "id": "0941f2e7-52b2-4441-825f-7c1792dfca69",
   "metadata": {},
   "outputs": [
    {
     "name": "stdin",
     "output_type": "stream",
     "text": [
      "Enter Position to Rotate List Items =  3\n"
     ]
    },
    {
     "name": "stdout",
     "output_type": "stream",
     "text": [
      "\n",
      "Final List Items After Right Rotating\n",
      "[80, 90, 100, 10, 20, 30, 40, 50, 60, 70]\n",
      "\n",
      "Final List Items After Left Rotating\n",
      "[40, 50, 60, 70, 80, 90, 100, 10, 20, 30]\n"
     ]
    }
   ],
   "source": [
    "List = [10, 20, 30, 40, 50, 60, 70, 80, 90, 100]\n",
    "Rotate = int(input(\"Enter Position to Rotate List Items = \"))\n",
    "\n",
    "list1 = List[-Rotate:] + List[:-Rotate]\n",
    "list2 = List[Rotate:] + List[:Rotate]\n",
    "\n",
    "print('\\nFinal List Items After Right Rotating')\n",
    "print(list1)\n",
    "print('\\nFinal List Items After Left Rotating')\n",
    "print(list2)"
   ]
  },
  {
   "cell_type": "code",
   "execution_count": null,
   "id": "ffb517bb-bec9-4736-bc97-d5a41c6678be",
   "metadata": {},
   "outputs": [],
   "source": []
  }
 ],
 "metadata": {
  "kernelspec": {
   "display_name": "Python [conda env:data_science]",
   "language": "python",
   "name": "conda-env-data_science-py"
  },
  "language_info": {
   "codemirror_mode": {
    "name": "ipython",
    "version": 3
   },
   "file_extension": ".py",
   "mimetype": "text/x-python",
   "name": "python",
   "nbconvert_exporter": "python",
   "pygments_lexer": "ipython3",
   "version": "3.9.7"
  }
 },
 "nbformat": 4,
 "nbformat_minor": 5
}
