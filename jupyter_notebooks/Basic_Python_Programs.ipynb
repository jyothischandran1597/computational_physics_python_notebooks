{
 "cells": [
  {
   "cell_type": "markdown",
   "metadata": {},
   "source": [
    "Link: https://www.tutorialgateway.org/python-programming-examples/"
   ]
  },
  {
   "cell_type": "markdown",
   "metadata": {},
   "source": [
    "## Hello World"
   ]
  },
  {
   "cell_type": "code",
   "execution_count": 1,
   "metadata": {},
   "outputs": [
    {
     "name": "stdout",
     "output_type": "stream",
     "text": [
      "Hello World!\n"
     ]
    }
   ],
   "source": [
    "print(\"Hello World!\")"
   ]
  },
  {
   "cell_type": "markdown",
   "metadata": {},
   "source": [
    "___"
   ]
  },
  {
   "cell_type": "markdown",
   "metadata": {},
   "source": [
    "## Sum of two numbers"
   ]
  },
  {
   "cell_type": "code",
   "execution_count": 3,
   "metadata": {},
   "outputs": [
    {
     "name": "stdin",
     "output_type": "stream",
     "text": [
      "Enter the first number:  10\n",
      "Enter the secod number:  20\n"
     ]
    },
    {
     "name": "stdout",
     "output_type": "stream",
     "text": [
      "The sum of 10 and 20 is 30.0\n"
     ]
    }
   ],
   "source": [
    "number1 = input(\"Enter the first number: \")\n",
    "number2 = input(\"Enter the secod number: \")\n",
    "\n",
    "# Using arithmetic + Operator to add two numbers\n",
    "\n",
    "sum_ = float(number1) + float(number2)\n",
    "print('The sum of {0} and {1} is {2}'.format(number1, number2, sum_))"
   ]
  },
  {
   "cell_type": "markdown",
   "metadata": {},
   "source": [
    "### Remarks:\n",
    "* A method in python is a function that ia attached to an object.\n",
    "* .format() is a method that helps us to insert value of variables into a string.\n",
    "* The function float(number) used here converts any type of number inserted into a floating point number, or a number with a decimal point."
   ]
  },
  {
   "cell_type": "code",
   "execution_count": 6,
   "metadata": {},
   "outputs": [
    {
     "name": "stdin",
     "output_type": "stream",
     "text": [
      "Please Enter the First Number:  10\n",
      "Please Enter the Second number:  20\n"
     ]
    },
    {
     "name": "stdout",
     "output_type": "stream",
     "text": [
      "The sum of 10.0 and 20.0 is 30.0\n",
      "The Result of subtracting 20.0 from 10.0 = -10.0\n"
     ]
    }
   ],
   "source": [
    "number1 = float(input(\"Please Enter the First Number: \"))\n",
    "number2 = float(input(\"Please Enter the Second number: \"))\n",
    "\n",
    "# Using arithmetic + Operator to add two numbers\n",
    "sum_ = number1 + number2\n",
    "print('The sum of {0} and {1} is {2}'.format(number1, number2, sum_))\n",
    "\n",
    "sub = number1 - number2\n",
    "print('The Result of subtracting {0} from {1} = {2}'.format(number2,number1,sub))"
   ]
  },
  {
   "cell_type": "markdown",
   "metadata": {},
   "source": [
    "___"
   ]
  },
  {
   "cell_type": "markdown",
   "metadata": {},
   "source": [
    "## Multiplication of two numbers"
   ]
  },
  {
   "cell_type": "code",
   "execution_count": 11,
   "metadata": {},
   "outputs": [],
   "source": [
    "num1 = int(10.0)\n",
    "num2 = int(20.0)"
   ]
  },
  {
   "cell_type": "code",
   "execution_count": 12,
   "metadata": {},
   "outputs": [
    {
     "name": "stdout",
     "output_type": "stream",
     "text": [
      "The Result of Multipling 10 and 20 = 200\n"
     ]
    }
   ],
   "source": [
    "mul = num1 * num2\n",
    "print('The Result of Multipling {0} and {1} = {2}'.format(num1, num2, mul))"
   ]
  },
  {
   "cell_type": "markdown",
   "metadata": {},
   "source": [
    "### Remarks:\n",
    "* int() forces the number to be converted to an integer. int(5.2) will be 5."
   ]
  },
  {
   "cell_type": "markdown",
   "metadata": {},
   "source": [
    "___"
   ]
  },
  {
   "cell_type": "markdown",
   "metadata": {},
   "source": [
    "## Basic arithmetic operations"
   ]
  },
  {
   "cell_type": "code",
   "execution_count": 13,
   "metadata": {},
   "outputs": [
    {
     "name": "stdin",
     "output_type": "stream",
     "text": [
      " Please Enter the First Value Number 1:  20.0\n",
      " Please Enter the Second Value Number 2:  10.0\n"
     ]
    },
    {
     "name": "stdout",
     "output_type": "stream",
     "text": [
      "The Sum of 20.0 and 10.0 = 30.0\n",
      "The Subtraction of 10.0 from 20.0 = 10.0\n",
      "The Multiplication of 20.0 and 10.0 = 200.0\n",
      "The Division of 20.0 and 10.0 = 2.0\n",
      "The Modulus of 20.0 and 10.0 = 0.0\n",
      "The Exponent Value of 20.0 and 10.0 = 10240000000000.0\n"
     ]
    }
   ],
   "source": [
    "# Python Program to Perform Arithmetic Operations\n",
    "\n",
    "num1 = float(input(\" Please Enter the First Value Number 1: \"))\n",
    "num2 = float(input(\" Please Enter the Second Value Number 2: \"))\n",
    "\n",
    "# Add Two Numbers\n",
    "add = num1 + num2\n",
    "\n",
    "# Subtracting num2 from num1\n",
    "sub = num1 - num2\n",
    "\n",
    "# Multiply num1 with num2\n",
    "multi = num1 * num2\n",
    "\n",
    "# Divide num1 by num2\n",
    "div = num1 / num2\n",
    "\n",
    "# Modulus of num1 and num2\n",
    "mod = num1 % num2\n",
    "\n",
    "# Exponent of num1 and num2\n",
    "expo = num1 ** num2\n",
    "\n",
    "print(\"The Sum of {0} and {1} = {2}\".format(num1, num2, add))\n",
    "print(\"The Subtraction of {0} from {1} = {2}\".format(num2, num1, sub))\n",
    "print(\"The Multiplication of {0} and {1} = {2}\".format(num1, num2, multi))\n",
    "print(\"The Division of {0} and {1} = {2}\".format(num1, num2, div))\n",
    "print(\"The Modulus of {0} and {1} = {2}\".format(num1, num2, mod))\n",
    "print(\"The Exponent Value of {0} and {1} = {2}\".format(num1, num2, expo))"
   ]
  },
  {
   "cell_type": "markdown",
   "metadata": {},
   "source": [
    "___"
   ]
  },
  {
   "cell_type": "markdown",
   "metadata": {},
   "source": [
    "## Calender"
   ]
  },
  {
   "cell_type": "code",
   "execution_count": 14,
   "metadata": {},
   "outputs": [
    {
     "name": "stdin",
     "output_type": "stream",
     "text": [
      "Please Enter the year Number:  2022\n",
      "Please Enter the month Number:  1\n"
     ]
    },
    {
     "name": "stdout",
     "output_type": "stream",
     "text": [
      "    January 2022\n",
      "Mo Tu We Th Fr Sa Su\n",
      "                1  2\n",
      " 3  4  5  6  7  8  9\n",
      "10 11 12 13 14 15 16\n",
      "17 18 19 20 21 22 23\n",
      "24 25 26 27 28 29 30\n",
      "31\n",
      "\n"
     ]
    }
   ],
   "source": [
    "import calendar\n",
    "\n",
    "# ask of month and year\n",
    "year = int(input(\"Please Enter the year Number: \"))\n",
    "month = int(input(\"Please Enter the month Number: \"))\n",
    "\n",
    "print(calendar.month(year, month))"
   ]
  },
  {
   "cell_type": "markdown",
   "metadata": {},
   "source": [
    "### Remarks\n",
    "* \"import \\<package name\\>\" imports the python library\\package named after \"import\" and enables us to use the functions from that specific package.\n",
    "* \"calender\" is a python library and calender.month() is a function that gives the calender of the year and month given as an input for the function.\n",
    "* There are multiple ways to import a full package, a specific subset of a package or only specific functions from a package."
   ]
  },
  {
   "cell_type": "markdown",
   "metadata": {},
   "source": [
    "___"
   ]
  },
  {
   "cell_type": "markdown",
   "metadata": {},
   "source": [
    "## Cube of  number"
   ]
  },
  {
   "cell_type": "code",
   "execution_count": 15,
   "metadata": {},
   "outputs": [
    {
     "name": "stdin",
     "output_type": "stream",
     "text": [
      " Please Enter any numeric Value :  5\n"
     ]
    },
    {
     "name": "stdout",
     "output_type": "stream",
     "text": [
      "The Cube of a Given Number 5.0  = 125.0\n"
     ]
    }
   ],
   "source": [
    "# Python Program to Calculate Cube of a Number\n",
    "\n",
    "number = float(input(\" Please Enter any numeric Value : \"))\n",
    "cube = number * number * number\n",
    "print(\"The Cube of a Given Number {0}  = {1}\".format(number, cube))"
   ]
  },
  {
   "cell_type": "code",
   "execution_count": 17,
   "metadata": {},
   "outputs": [
    {
     "name": "stdout",
     "output_type": "stream",
     "text": [
      "The Cube of a Given Number 5.0  = 125.0\n"
     ]
    }
   ],
   "source": [
    "# Using exponent operator\n",
    "\n",
    "cube = number ** 3\n",
    "print(\"The Cube of a Given Number {0}  = {1}\".format(number, cube))"
   ]
  },
  {
   "cell_type": "code",
   "execution_count": 18,
   "metadata": {},
   "outputs": [
    {
     "name": "stdout",
     "output_type": "stream",
     "text": [
      "The Cube of a Given Number 5.0  = 125.0\n"
     ]
    }
   ],
   "source": [
    "# Python Program to Calculate Cube of a Number by defining a function.\n",
    "\n",
    "def cube(num):\n",
    "    return num * num * num\n",
    "\n",
    "cub = cube(number)\n",
    "print(\"The Cube of a Given Number {0}  = {1}\".format(number, cub))"
   ]
  },
  {
   "cell_type": "markdown",
   "metadata": {},
   "source": [
    "### Remarks:\n",
    "* In the above example, a function is defined that will calculate the cube of a number and called to do so.\n",
    "* The function name and the parameters it takes in as inputs are given after starting the definition of the function using \"def\".\n",
    "* When the function is called later in the script, it will return the value of the statement that is given after the word \"return\"."
   ]
  },
  {
   "cell_type": "markdown",
   "metadata": {},
   "source": [
    "___"
   ]
  },
  {
   "cell_type": "markdown",
   "metadata": {},
   "source": [
    "## Largest of Two Numbers \n",
    "### 1. Using Elif Statement"
   ]
  },
  {
   "cell_type": "code",
   "execution_count": 20,
   "metadata": {},
   "outputs": [
    {
     "name": "stdin",
     "output_type": "stream",
     "text": [
      "Please Enter the First Value a:  10\n",
      "Please Enter the Second Value b:  20\n"
     ]
    },
    {
     "name": "stdout",
     "output_type": "stream",
     "text": [
      "20.0 is Greater than 10.0\n"
     ]
    }
   ],
   "source": [
    "# Python Program to find Largest of Two Numbers\n",
    "\n",
    "a = float(input(\"Please Enter the First Value a: \"))\n",
    "b = float(input(\"Please Enter the Second Value b: \"))\n",
    "\n",
    "if(a > b):\n",
    "    print(\"{0} is Greater than {1}\".format(a, b))\n",
    "elif(b > a):\n",
    "    print(\"{0} is Greater than {1}\".format(b, a))\n",
    "else:\n",
    "    print(\"Both a and b are Equal\")"
   ]
  },
  {
   "cell_type": "markdown",
   "metadata": {},
   "source": [
    "* The first if condition checks whether a is greater than b. If True, then a is greater than b printed\n",
    "* Elif statement checks whether b is greater than a. If True, then b is higher than a printed\n",
    "* If all the above conditions fail, they are equal."
   ]
  },
  {
   "cell_type": "markdown",
   "metadata": {},
   "source": [
    "### 2. Using nested if statements"
   ]
  },
  {
   "cell_type": "code",
   "execution_count": 23,
   "metadata": {},
   "outputs": [
    {
     "name": "stdout",
     "output_type": "stream",
     "text": [
      "20.0 is the Largest Value\n"
     ]
    }
   ],
   "source": [
    "if(a == b):\n",
    "    print(\"Both a and b are Equal\")\n",
    "else:\n",
    "    largest = a if a > b else b\n",
    "    print(\"{0} is the Largest Value\".format(largest))"
   ]
  },
  {
   "cell_type": "markdown",
   "metadata": {},
   "source": [
    "### 3. Using Arithmetic Operator"
   ]
  },
  {
   "cell_type": "code",
   "execution_count": 24,
   "metadata": {},
   "outputs": [
    {
     "name": "stdout",
     "output_type": "stream",
     "text": [
      "20.0 is Greater than 10.0\n"
     ]
    }
   ],
   "source": [
    "if(a - b > 0):\n",
    "    print(\"{0} is Greater than {1}\".format(a, b))\n",
    "elif(b - a > 0):\n",
    "    print(\"{0} is Greater than {1}\".format(b, a))\n",
    "else:\n",
    "    print(\"Both a and b are Equal\")"
   ]
  },
  {
   "cell_type": "markdown",
   "metadata": {},
   "source": [
    "___"
   ]
  },
  {
   "cell_type": "markdown",
   "metadata": {},
   "source": [
    "## Largest of Three numbers\n",
    "### 1. Using Elif Statement"
   ]
  },
  {
   "cell_type": "code",
   "execution_count": 25,
   "metadata": {},
   "outputs": [
    {
     "name": "stdin",
     "output_type": "stream",
     "text": [
      "Please Enter the First value:  10\n",
      "Please Enter the First value:  20\n",
      "Please Enter the First value:  20\n"
     ]
    },
    {
     "name": "stdout",
     "output_type": "stream",
     "text": [
      "Either any two values or all the three values are equal\n"
     ]
    }
   ],
   "source": [
    "a = float(input(\"Please Enter the First value: \"))\n",
    "b = float(input(\"Please Enter the First value: \"))\n",
    "c = float(input(\"Please Enter the First value: \"))\n",
    "\n",
    "if (a > b and a > c):\n",
    "          print(\"{0} is Greater Than both {1} and {2}\". format(a, b, c))\n",
    "elif (b > a and b > c):\n",
    "          print(\"{0} is Greater Than both {1} and {2}\". format(b, a, c))\n",
    "elif (c > a and c > b):\n",
    "          print(\"{0} is Greater Than both {1} and {2}\". format(c, a, b))\n",
    "else:\n",
    "          print(\"Either any two values or all the three values are equal\")"
   ]
  },
  {
   "cell_type": "markdown",
   "metadata": {},
   "source": [
    "### 2. Using nested if statements"
   ]
  },
  {
   "cell_type": "code",
   "execution_count": 35,
   "metadata": {},
   "outputs": [
    {
     "name": "stdin",
     "output_type": "stream",
     "text": [
      "Please Enter the First value:  10\n",
      "Please Enter the First value:  30\n",
      "Please Enter the First value:  20\n"
     ]
    },
    {
     "name": "stdout",
     "output_type": "stream",
     "text": [
      "30.0 is Greater Than both 10.0 and 20.0\n"
     ]
    }
   ],
   "source": [
    "a = float(input(\"Please Enter the First value: \"))\n",
    "b = float(input(\"Please Enter the First value: \"))\n",
    "c = float(input(\"Please Enter the First value: \"))\n",
    "\n",
    "if (a-b > 0) and (a-c > 0):\n",
    "    print(\"{0} is Greater Than both {1} and {2}\". format(a, b, c))\n",
    "else:\n",
    "    if (a==b) or (a==c):\n",
    "        print(\"Either any two values or all the three values are equal\")\n",
    "    else:\n",
    "        if(b - c > 0):\n",
    "            print(\"{0} is Greater Than both {1} and {2}\". format(b, a, c))\n",
    "        else:\n",
    "            if b==c:\n",
    "                print(\"Either any two values or all the three values are equal\")\n",
    "            else:\n",
    "                print(\"{0} is Greater Than both {1} and {2}\". format(c, a, b))"
   ]
  },
  {
   "cell_type": "markdown",
   "metadata": {},
   "source": [
    "___"
   ]
  },
  {
   "cell_type": "markdown",
   "metadata": {},
   "source": [
    "##  Print Natural Numbers"
   ]
  },
  {
   "cell_type": "markdown",
   "metadata": {},
   "source": [
    "### 1. Using for loop"
   ]
  },
  {
   "cell_type": "code",
   "execution_count": 37,
   "metadata": {},
   "outputs": [
    {
     "name": "stdin",
     "output_type": "stream",
     "text": [
      "Please Enter any Number:  10\n"
     ]
    },
    {
     "name": "stdout",
     "output_type": "stream",
     "text": [
      "The List of Natural Numbers from 1 to 10 are\n",
      "1\n",
      "2\n",
      "3\n",
      "4\n",
      "5\n",
      "6\n",
      "7\n",
      "8\n",
      "9\n",
      "10\n"
     ]
    }
   ],
   "source": [
    "# Python Program to Print Natural Numbers from 1 to N\n",
    " \n",
    "number = int(input(\"Please Enter any Number: \"))\n",
    "\n",
    "print(\"The List of Natural Numbers from 1 to {0} are\".format(number)) \n",
    "for i in range(1, number + 1):\n",
    "    print (i)"
   ]
  },
  {
   "cell_type": "code",
   "execution_count": 38,
   "metadata": {},
   "outputs": [
    {
     "name": "stdout",
     "output_type": "stream",
     "text": [
      "The List of Natural Numbers from 1 to 10 are\n",
      "1  2  3  4  5  6  7  8  9  10  "
     ]
    }
   ],
   "source": [
    "print(\"The List of Natural Numbers from 1 to {0} are\".format(number)) \n",
    "for i in range(1, number + 1):\n",
    "    print (i, end = '  ')"
   ]
  },
  {
   "cell_type": "markdown",
   "metadata": {},
   "source": [
    "### 2. Using while loop"
   ]
  },
  {
   "cell_type": "code",
   "execution_count": 39,
   "metadata": {},
   "outputs": [
    {
     "name": "stdout",
     "output_type": "stream",
     "text": [
      "The List of Natural Numbers from 1 to 10 are\n",
      "1  2  3  4  5  6  7  8  9  10  "
     ]
    }
   ],
   "source": [
    "i = 1\n",
    "\n",
    "print(\"The List of Natural Numbers from 1 to {0} are\".format(number)) \n",
    "\n",
    "while ( i <= number):\n",
    "    print (i, end = '  ')\n",
    "    i = i + 1"
   ]
  },
  {
   "cell_type": "markdown",
   "metadata": {},
   "source": [
    "___"
   ]
  },
  {
   "cell_type": "markdown",
   "metadata": {},
   "source": [
    "## Display Natural Numbers within a range"
   ]
  },
  {
   "cell_type": "code",
   "execution_count": 40,
   "metadata": {},
   "outputs": [
    {
     "name": "stdin",
     "output_type": "stream",
     "text": [
      "Please Enter the Minimum integer Value :  10\n",
      "Please Enter the Maximum integer Value :  15\n"
     ]
    },
    {
     "name": "stdout",
     "output_type": "stream",
     "text": [
      "The List of Natural Numbers from 10 to 15 are\n",
      "10  11  12  13  14  15  "
     ]
    }
   ],
   "source": [
    "minimum = int(input(\"Please Enter the Minimum integer Value : \"))\n",
    "maximum = int(input(\"Please Enter the Maximum integer Value : \"))\n",
    "\n",
    "print(\"The List of Natural Numbers from {0} to {1} are\".format(minimum, maximum)) \n",
    "\n",
    "for i in range(minimum, maximum + 1):\n",
    "    print (i, end = '  ')"
   ]
  },
  {
   "cell_type": "markdown",
   "metadata": {},
   "source": [
    "___"
   ]
  },
  {
   "cell_type": "markdown",
   "metadata": {},
   "source": [
    "## Check Leap Year \n",
    "\n",
    "Note: A century year cannot be a leap year unless it is divisible by 400.\n",
    "\n",
    "### 1. Using If Statement"
   ]
  },
  {
   "cell_type": "code",
   "execution_count": 43,
   "metadata": {},
   "outputs": [
    {
     "name": "stdin",
     "output_type": "stream",
     "text": [
      "Please Enter the Year Number you wish:  1000\n"
     ]
    },
    {
     "name": "stdout",
     "output_type": "stream",
     "text": [
      "1000 is Not a Leap Year\n"
     ]
    }
   ],
   "source": [
    "year = int(input(\"Please Enter the Year Number you wish: \"))\n",
    "\n",
    "if (( year%400 == 0)or (( year%4 == 0 ) and ( year%100 != 0))):\n",
    "    print(\"%d is a Leap Year\" %year)\n",
    "else:\n",
    "    print(\"%d is Not a Leap Year\" %year)"
   ]
  },
  {
   "cell_type": "markdown",
   "metadata": {},
   "source": [
    "### Remark: \n",
    "The use of \"%\" to insert a value of a variable into a string is not the preferred way now. The preferredway to insert in a string is using .format()."
   ]
  },
  {
   "cell_type": "markdown",
   "metadata": {},
   "source": [
    "### 2. Using elif satatement"
   ]
  },
  {
   "cell_type": "code",
   "execution_count": 44,
   "metadata": {},
   "outputs": [
    {
     "name": "stdin",
     "output_type": "stream",
     "text": [
      "Please Enter the Year Number you wish:  1240\n"
     ]
    },
    {
     "name": "stdout",
     "output_type": "stream",
     "text": [
      "1240 is a Leap Year\n"
     ]
    }
   ],
   "source": [
    "year = int(input(\"Please Enter the Year Number you wish: \"))\n",
    "\n",
    "if (year%400 == 0):\n",
    "          print(\"%d is a Leap Year\" %year)\n",
    "elif (year%100 == 0):\n",
    "          print(\"%d is Not a Leap Year\" %year)\n",
    "elif (year%4 == 0):\n",
    "          print(\"%d is a Leap Year\" %year)\n",
    "else:\n",
    "          print(\"%d is Not a Leap Year\" %year)"
   ]
  },
  {
   "cell_type": "markdown",
   "metadata": {},
   "source": [
    "### 3. Using nested if"
   ]
  },
  {
   "cell_type": "code",
   "execution_count": 46,
   "metadata": {},
   "outputs": [
    {
     "name": "stdin",
     "output_type": "stream",
     "text": [
      "Please Enter the Year Number you wish:  1264\n"
     ]
    },
    {
     "name": "stdout",
     "output_type": "stream",
     "text": [
      "1264 is a Leap Year\n"
     ]
    }
   ],
   "source": [
    "year = int(input(\"Please Enter the Year Number you wish: \"))\n",
    "\n",
    "if(year%4 == 0):\n",
    "    if(year%100 == 0):\n",
    "        if(year%400 == 0):\n",
    "            print(\"%d is a Leap Year\" %year)\n",
    "        else:\n",
    "            print(\"%d is Not the Leap Year\" %year)\n",
    "    else:\n",
    "        print(\"%d is a Leap Year\" %year)\n",
    "else:\n",
    "    print(\"%d is Not the Leap Year\" %year)"
   ]
  },
  {
   "cell_type": "markdown",
   "metadata": {},
   "source": [
    "___"
   ]
  },
  {
   "cell_type": "markdown",
   "metadata": {},
   "source": [
    "## Odd or Even"
   ]
  },
  {
   "cell_type": "code",
   "execution_count": 49,
   "metadata": {},
   "outputs": [
    {
     "name": "stdin",
     "output_type": "stream",
     "text": [
      "Please Enter any Integer Value :  2\n"
     ]
    },
    {
     "name": "stdout",
     "output_type": "stream",
     "text": [
      "2 is an Even Number\n"
     ]
    }
   ],
   "source": [
    "number = int(input(\"Please Enter any Integer Value : \"))\n",
    "\n",
    "if(number % 2 == 0):\n",
    "    print(\"{0} is an Even Number\".format(number))\n",
    "else:\n",
    "    print(\"{0} is an Odd Number\".format(number))"
   ]
  },
  {
   "cell_type": "code",
   "execution_count": 51,
   "metadata": {},
   "outputs": [
    {
     "name": "stdout",
     "output_type": "stream",
     "text": [
      "2 is an Even Number\n"
     ]
    }
   ],
   "source": [
    "# Using the if else statement in a single line.\n",
    "\n",
    "print(\"{0} is an Even Number\".format(number)) if(number % 2 == 0) else print(\"{0} is an Odd Number\".format(number))"
   ]
  },
  {
   "cell_type": "markdown",
   "metadata": {},
   "source": [
    "### Even numbers from 1 to n with for loop"
   ]
  },
  {
   "cell_type": "code",
   "execution_count": 57,
   "metadata": {},
   "outputs": [
    {
     "name": "stdin",
     "output_type": "stream",
     "text": [
      " Please Enter the Maximum Value :  10\n"
     ]
    },
    {
     "name": "stdout",
     "output_type": "stream",
     "text": [
      "2\n",
      "4\n",
      "6\n",
      "8\n",
      "10\n"
     ]
    }
   ],
   "source": [
    "maximum = int(input(\"Please Enter the Maximum Value : \"))\n",
    "\n",
    "for number in range(1, maximum+1):\n",
    "    if(number % 2 == 0):\n",
    "        print(number)"
   ]
  },
  {
   "cell_type": "code",
   "execution_count": 58,
   "metadata": {},
   "outputs": [
    {
     "name": "stdout",
     "output_type": "stream",
     "text": [
      "2\n",
      "4\n",
      "6\n",
      "8\n",
      "10\n"
     ]
    }
   ],
   "source": [
    "for number in range(2, maximum+1, 2):\n",
    "    print(number)"
   ]
  },
  {
   "cell_type": "markdown",
   "metadata": {},
   "source": [
    "### Even numbers from 1 to n with while loop"
   ]
  },
  {
   "cell_type": "code",
   "execution_count": 59,
   "metadata": {},
   "outputs": [
    {
     "name": "stdin",
     "output_type": "stream",
     "text": [
      " Please Enter the Maximum Value :  10\n"
     ]
    },
    {
     "name": "stdout",
     "output_type": "stream",
     "text": [
      "2\n",
      "4\n",
      "6\n",
      "8\n",
      "10\n"
     ]
    }
   ],
   "source": [
    "maximum = int(input(\"Please Enter the Maximum Value : \"))\n",
    "\n",
    "number = 1\n",
    "\n",
    "while number <= maximum:\n",
    "    if(number % 2 == 0):\n",
    "        print(number)\n",
    "    number = number + 1"
   ]
  },
  {
   "cell_type": "markdown",
   "metadata": {},
   "source": [
    "___"
   ]
  },
  {
   "cell_type": "markdown",
   "metadata": {},
   "source": [
    "## Print Negative Numbers in a Range\n",
    "\n",
    "### 1. Using for loop"
   ]
  },
  {
   "cell_type": "code",
   "execution_count": 61,
   "metadata": {},
   "outputs": [
    {
     "name": "stdin",
     "output_type": "stream",
     "text": [
      "Enter the Minimum Number =  -10\n",
      "Enter the Maximum Number =  10\n"
     ]
    },
    {
     "name": "stdout",
     "output_type": "stream",
     "text": [
      "\n",
      "All Negative Numbers from -10 and 10\n",
      "-10   -9   -8   -7   -6   -5   -4   -3   -2   -1   "
     ]
    }
   ],
   "source": [
    "minimum = int(input(\"Enter the Minimum Number = \"))\n",
    "maximum = int(input(\"Enter the Maximum Number = \"))\n",
    "\n",
    "print(\"\\nAll Negative Numbers from {0} and {1}\".format(minimum, maximum)) \n",
    "for num in range(minimum, maximum + 1):\n",
    "    if num < 0:\n",
    "        print(num, end = '   ')"
   ]
  },
  {
   "cell_type": "code",
   "execution_count": 64,
   "metadata": {},
   "outputs": [
    {
     "name": "stdin",
     "output_type": "stream",
     "text": [
      "Enter the Minimum Number =  -10\n",
      "Enter the Maximum Number =  10\n"
     ]
    },
    {
     "name": "stdout",
     "output_type": "stream",
     "text": [
      "\n",
      "All Negative Numbers from -10 and 10\n",
      "-10   -9   -8   -7   -6   -5   -4   -3   -2   -1   "
     ]
    }
   ],
   "source": [
    "def negativeNumbers(x, y):\n",
    "    for num in range(x, y + 1):\n",
    "        if num < 0:\n",
    "            print(num, end = '   ')\n",
    "\n",
    "\n",
    "minimum = int(input(\"Enter the Minimum Number = \"))\n",
    "maximum = int(input(\"Enter the Maximum Number = \"))\n",
    "\n",
    "print(\"\\nAll Negative Numbers from {0} and {1}\".format(minimum, maximum)) \n",
    "negativeNumbers(minimum, maximum)"
   ]
  },
  {
   "cell_type": "markdown",
   "metadata": {
    "tags": []
   },
   "source": [
    "### 2. Using while loop"
   ]
  },
  {
   "cell_type": "code",
   "execution_count": 63,
   "metadata": {},
   "outputs": [
    {
     "name": "stdin",
     "output_type": "stream",
     "text": [
      "Enter the Minimum Number =  -10\n",
      "Enter the Maximum Number =  10\n"
     ]
    },
    {
     "name": "stdout",
     "output_type": "stream",
     "text": [
      "\n",
      "All Negative Numbers from -10 and 10\n",
      "-10   -9   -8   -7   -6   -5   -4   -3   -2   -1   "
     ]
    }
   ],
   "source": [
    "minimum = int(input(\"Enter the Minimum Number = \"))\n",
    "maximum = int(input(\"Enter the Maximum Number = \"))\n",
    "\n",
    "print(\"\\nAll Negative Numbers from {0} and {1}\".format(minimum, maximum))\n",
    "num = minimum\n",
    "while num <= maximum:\n",
    "    if num < 0:\n",
    "        print(num, end = '   ')\n",
    "    num = num + 1"
   ]
  },
  {
   "cell_type": "markdown",
   "metadata": {},
   "source": [
    "___"
   ]
  },
  {
   "cell_type": "markdown",
   "metadata": {},
   "source": [
    "## Positive or Negative"
   ]
  },
  {
   "cell_type": "code",
   "execution_count": 65,
   "metadata": {},
   "outputs": [
    {
     "name": "stdin",
     "output_type": "stream",
     "text": [
      " Please Enter any Numeric Value :  -10\n"
     ]
    },
    {
     "name": "stdout",
     "output_type": "stream",
     "text": [
      "-10.0 is a Negative Number\n"
     ]
    }
   ],
   "source": [
    "number = float(input(\" Please Enter any Numeric Value : \"))\n",
    "\n",
    "if(number > 0):\n",
    "    print(\"{0} is a Positive Number\".format(number))\n",
    "elif(number < 0):\n",
    "    print(\"{0} is a Negative Number\".format(number))\n",
    "else:\n",
    "    print(\"You have entered Zero\")"
   ]
  },
  {
   "cell_type": "markdown",
   "metadata": {},
   "source": [
    "___"
   ]
  },
  {
   "cell_type": "markdown",
   "metadata": {},
   "source": [
    "## Profit or Lose\n",
    "\n",
    "### 1. Using elif statement"
   ]
  },
  {
   "cell_type": "code",
   "execution_count": 67,
   "metadata": {},
   "outputs": [
    {
     "name": "stdin",
     "output_type": "stream",
     "text": [
      "Please Enter the Actual Product Price:  100\n",
      "Please Enter the Sales Amount:  99\n"
     ]
    },
    {
     "name": "stdout",
     "output_type": "stream",
     "text": [
      "Total Loss Amount = 1.0\n"
     ]
    }
   ],
   "source": [
    "actual_cost = float(input(\"Please Enter the Actual Product Price: \"))\n",
    "sale_amount = float(input(\"Please Enter the Sales Amount: \"))\n",
    " \n",
    "if(actual_cost > sale_amount):\n",
    "    amount = actual_cost - sale_amount\n",
    "    print(\"Total Loss Amount = {0}\".format(amount))\n",
    "elif(sale_amount > actual_cost):\n",
    "    amount = sale_amount - actual_cost\n",
    "    print(\"Total Profit = {0}\".format(amount))\n",
    "else:\n",
    "    print(\"No Profit No Loss!!!\")"
   ]
  },
  {
   "cell_type": "markdown",
   "metadata": {},
   "source": [
    "### 2. Using elif statements and arithmetic operations"
   ]
  },
  {
   "cell_type": "code",
   "execution_count": 69,
   "metadata": {},
   "outputs": [
    {
     "name": "stdin",
     "output_type": "stream",
     "text": [
      "Please Enter the Actual Product Price:  100\n",
      "Please Enter the Sales Amount:  99\n"
     ]
    },
    {
     "name": "stdout",
     "output_type": "stream",
     "text": [
      "Total Loss Amount = 1.0\n"
     ]
    }
   ],
   "source": [
    "actual_cost = float(input(\"Please Enter the Actual Product Price: \"))\n",
    "sale_amount = float(input(\"Please Enter the Sales Amount: \"))\n",
    " \n",
    "if(actual_cost - sale_amount > 0):\n",
    "    amount = actual_cost - sale_amount\n",
    "    print(\"Total Loss Amount = {0}\".format(amount))\n",
    "elif(sale_amount - actual_cost > 0):\n",
    "    amount = sale_amount - actual_cost\n",
    "    print(\"Total Profit = {0}\".format(amount))\n",
    "else:\n",
    "    print(\"No Profit No Loss!!!\")"
   ]
  },
  {
   "cell_type": "markdown",
   "metadata": {},
   "source": [
    "___"
   ]
  },
  {
   "cell_type": "markdown",
   "metadata": {},
   "source": [
    "## Python Program to find Square root of a Number\n",
    "\n",
    "### 1. Using sqrt() function in math library"
   ]
  },
  {
   "cell_type": "code",
   "execution_count": 70,
   "metadata": {},
   "outputs": [],
   "source": [
    "import math"
   ]
  },
  {
   "cell_type": "code",
   "execution_count": 71,
   "metadata": {},
   "outputs": [
    {
     "name": "stdin",
     "output_type": "stream",
     "text": [
      "Please enter anyumerical value: 25\n"
     ]
    },
    {
     "name": "stdout",
     "output_type": "stream",
     "text": [
      "The Square Root of a Given Number 25.0  = 5.0\n"
     ]
    }
   ],
   "source": [
    "number = float(input(\"Please enter anyumerical value:\"))\n",
    "square_root = math.sqrt(number)\n",
    "print(\"The Square Root of a Given Number {0}  = {1}\".format(number, square_root))"
   ]
  },
  {
   "cell_type": "markdown",
   "metadata": {},
   "source": [
    "### 2. Using pow() from math library"
   ]
  },
  {
   "cell_type": "code",
   "execution_count": 72,
   "metadata": {},
   "outputs": [
    {
     "name": "stdin",
     "output_type": "stream",
     "text": [
      "Please enter anyumerical value: 25\n"
     ]
    },
    {
     "name": "stdout",
     "output_type": "stream",
     "text": [
      "The Square Root of a Given Number 25.0  = 5.0\n"
     ]
    }
   ],
   "source": [
    "number = float(input(\"Please enter anyumerical value:\"))\n",
    "square_root = math.pow(number,0.5)\n",
    "print(\"The Square Root of a Given Number {0}  = {1}\".format(number, square_root))"
   ]
  },
  {
   "cell_type": "markdown",
   "metadata": {},
   "source": [
    "___"
   ]
  },
  {
   "cell_type": "markdown",
   "metadata": {},
   "source": [
    "## Print Divisors of a Number\n",
    "\n",
    "### 1. Using for loop"
   ]
  },
  {
   "cell_type": "code",
   "execution_count": 74,
   "metadata": {},
   "outputs": [
    {
     "name": "stdin",
     "output_type": "stream",
     "text": [
      "Please enter any integer to find divisors =  100\n"
     ]
    },
    {
     "name": "stdout",
     "output_type": "stream",
     "text": [
      "The Divisors of the Number = \n",
      "1  2  4  5  10  20  25  50  100  "
     ]
    }
   ],
   "source": [
    "num = int(input(\"Please enter any integer to find divisors = \"))\n",
    "\n",
    "print(\"The Divisors of the Number = \")\n",
    "\n",
    "for i in range(1, num + 1):\n",
    "    if num % i == 0:\n",
    "        print(i, end='  ')"
   ]
  },
  {
   "cell_type": "code",
   "execution_count": 76,
   "metadata": {},
   "outputs": [
    {
     "name": "stdin",
     "output_type": "stream",
     "text": [
      "Please enter any integer to find divisors =  100\n"
     ]
    },
    {
     "name": "stdout",
     "output_type": "stream",
     "text": [
      "The Divisors of the Number = \n",
      "1  2  4  5  10  20  25  50  100  "
     ]
    }
   ],
   "source": [
    "def findDivisors(num):\n",
    "    for i in range(1, num + 1):\n",
    "        if num % i == 0:\n",
    "            print(i, end='  ')\n",
    "\n",
    "num = int(input(\"Please enter any integer to find divisors = \"))\n",
    "\n",
    "print(\"The Divisors of the Number = \")\n",
    "findDivisors(num)"
   ]
  },
  {
   "cell_type": "markdown",
   "metadata": {
    "tags": []
   },
   "source": [
    "### 2. Using while loop"
   ]
  },
  {
   "cell_type": "code",
   "execution_count": 77,
   "metadata": {},
   "outputs": [
    {
     "name": "stdin",
     "output_type": "stream",
     "text": [
      "Please enter any integer to find divisors =  100\n"
     ]
    },
    {
     "name": "stdout",
     "output_type": "stream",
     "text": [
      "The Divisors of the Number = \n",
      "1  2  4  5  10  20  25  50  100  "
     ]
    }
   ],
   "source": [
    "num = int(input(\"Please enter any integer to find divisors = \"))\n",
    "\n",
    "print(\"The Divisors of the Number = \")\n",
    "\n",
    "i = 1\n",
    "\n",
    "while(i <= num):\n",
    "    if num % i == 0:\n",
    "        print(i, end = '  ')\n",
    "    i = i + 1"
   ]
  },
  {
   "cell_type": "markdown",
   "metadata": {},
   "source": [
    "___"
   ]
  },
  {
   "cell_type": "markdown",
   "metadata": {},
   "source": [
    "## Calculate simple interest\n",
    "\n",
    "## $$I=P\\Big(\\frac{r}{100}\\Big)t \\\\ A = I+P$$\n",
    "Where, \n",
    "* A $\\rightarrow$ final amount\n",
    "* I $\\rightarrow$ simple interest\n",
    "* P $\\rightarrow$ principal amount\n",
    "* r $\\rightarrow$ interest rate in %\n",
    "* t $\\rightarrow$ time in years."
   ]
  },
  {
   "cell_type": "code",
   "execution_count": 98,
   "metadata": {},
   "outputs": [
    {
     "name": "stdin",
     "output_type": "stream",
     "text": [
      "Please Enter the Principal Amount :  1000\n",
      "Please Enter the Rate of Interest   :  5\n",
      "Please Enter Time period in Years   :  5\n"
     ]
    },
    {
     "name": "stdout",
     "output_type": "stream",
     "text": [
      "\n",
      "Simple Interest for Principal Amount 1000.0 = 250.0\n"
     ]
    }
   ],
   "source": [
    "princ_amount = float(input(\"Please Enter the Principal Amount : \"))\n",
    "rate_of_int = float(input(\"Please Enter the Rate of Interest   : \"))\n",
    "time_period = float(input(\"Please Enter Time period in Years   : \"))\n",
    "\n",
    "simple_interest = (princ_amount * rate_of_int * time_period) / 100\n",
    "\n",
    "print(\"\\nSimple Interest for Principal Amount {0} = {1}\".format(princ_amount, simple_interest))"
   ]
  },
  {
   "cell_type": "markdown",
   "metadata": {},
   "source": [
    "___"
   ]
  },
  {
   "cell_type": "markdown",
   "metadata": {},
   "source": [
    "## Calculate compound interest\n",
    "\n",
    "## $$A=P(1+r)^n \\\\ C = A-P$$\n",
    "Where, \n",
    "* A $\\rightarrow$ final amount\n",
    "* C $\\rightarrow$ compond interest\n",
    "* P $\\rightarrow$ principal amount\n",
    "* r $\\rightarrow$ interest rate\n",
    "* n $\\rightarrow$ number of years."
   ]
  },
  {
   "cell_type": "code",
   "execution_count": 78,
   "metadata": {},
   "outputs": [
    {
     "name": "stdin",
     "output_type": "stream",
     "text": [
      "Please Enter the Principal Amount :  5000\n",
      "Please Enter the Rate Of Interest in percentage   :  2\n",
      "Please Enter Time period in Years   :  5\n"
     ]
    },
    {
     "name": "stdout",
     "output_type": "stream",
     "text": [
      "Future Compound Interest for Principal Amount 5000.0 = 5520.404016\n",
      "Compound Interest for Principal Amount 5000.0 = 520.4040160000004\n"
     ]
    }
   ],
   "source": [
    "import math\n",
    "\n",
    "princ_amount = float(input(\"Please Enter the Principal Amount : \"))\n",
    "rate_of_int = float(input(\"Please Enter the Rate of Interest in percentage   : \"))\n",
    "time_period = float(input(\"Please Enter Time period in Years   : \"))\n",
    "\n",
    "ci_future = princ_amount * (math.pow((1 + rate_of_int / 100), time_period)) \n",
    "compound_int = ci_future - princ_amount\n",
    "\n",
    "print(\"Future Compound Interest for Principal Amount {0} = {1}\".format(princ_amount, ci_future))\n",
    "print(\"Compound Interest for Principal Amount {0} = {1}\".format(princ_amount, compound_int))"
   ]
  },
  {
   "cell_type": "markdown",
   "metadata": {},
   "source": [
    "___"
   ]
  },
  {
   "cell_type": "markdown",
   "metadata": {},
   "source": [
    "## Check Number is Divisible by 5 and 11"
   ]
  },
  {
   "cell_type": "code",
   "execution_count": 79,
   "metadata": {},
   "outputs": [
    {
     "name": "stdin",
     "output_type": "stream",
     "text": [
      "Please Enter any Positive Integer :  55\n"
     ]
    },
    {
     "name": "stdout",
     "output_type": "stream",
     "text": [
      "Given Number 55 is Divisible by 5 and 11\n"
     ]
    }
   ],
   "source": [
    "number = int(input(\"Please Enter any Positive Integer : \"))\n",
    "\n",
    "if (number % 5 == 0) and (number % 11 == 0):\n",
    "    print(\"Given Number {0} is Divisible by 5 and 11\".format(number))\n",
    "else:\n",
    "    print(\"Given Number {0} is Not Divisible by 5 and 11\".format(number))"
   ]
  },
  {
   "cell_type": "markdown",
   "metadata": {},
   "source": [
    "### Remarks:\n",
    "* The 'and' in the if statement works as a logical and.\n",
    "* True and False = False; True and True = True.\n",
    "* Similarly, 'or' works as logical or."
   ]
  },
  {
   "cell_type": "markdown",
   "metadata": {},
   "source": [
    "___"
   ]
  },
  {
   "cell_type": "markdown",
   "metadata": {},
   "source": [
    "## Multiplication Table"
   ]
  },
  {
   "cell_type": "markdown",
   "metadata": {},
   "source": [
    "### 1. Using for loop"
   ]
  },
  {
   "cell_type": "code",
   "execution_count": 81,
   "metadata": {},
   "outputs": [
    {
     "name": "stdout",
     "output_type": "stream",
     "text": [
      "Multiplication Table \n",
      "8  *  1  =  8\n",
      "8  *  2  =  16\n",
      "8  *  3  =  24\n",
      "8  *  4  =  32\n",
      "8  *  5  =  40\n",
      "8  *  6  =  48\n",
      "8  *  7  =  56\n",
      "8  *  8  =  64\n",
      "8  *  9  =  72\n",
      "8  *  10  =  80\n",
      "==============\n",
      "9  *  1  =  9\n",
      "9  *  2  =  18\n",
      "9  *  3  =  27\n",
      "9  *  4  =  36\n",
      "9  *  5  =  45\n",
      "9  *  6  =  54\n",
      "9  *  7  =  63\n",
      "9  *  8  =  72\n",
      "9  *  9  =  81\n",
      "9  *  10  =  90\n",
      "==============\n",
      "10  *  1  =  10\n",
      "10  *  2  =  20\n",
      "10  *  3  =  30\n",
      "10  *  4  =  40\n",
      "10  *  5  =  50\n",
      "10  *  6  =  60\n",
      "10  *  7  =  70\n",
      "10  *  8  =  80\n",
      "10  *  9  =  90\n",
      "10  *  10  =  100\n",
      "==============\n"
     ]
    }
   ],
   "source": [
    "print(\"Multiplication Table \")\n",
    "\n",
    "for i in range(8, 10+1):\n",
    "    for j in range(1, 10+1):\n",
    "        print('{0}  *  {1}  =  {2}'.format(i, j, i*j))\n",
    "    print('==============')"
   ]
  },
  {
   "cell_type": "markdown",
   "metadata": {},
   "source": [
    "### 3. Using while loop"
   ]
  },
  {
   "cell_type": "code",
   "execution_count": 84,
   "metadata": {},
   "outputs": [
    {
     "name": "stdout",
     "output_type": "stream",
     "text": [
      "Multiplication Table \n",
      "8  *  1  =  8\n",
      "8  *  2  =  16\n",
      "8  *  3  =  24\n",
      "8  *  4  =  32\n",
      "8  *  5  =  40\n",
      "8  *  6  =  48\n",
      "8  *  7  =  56\n",
      "8  *  8  =  64\n",
      "8  *  9  =  72\n",
      "8  *  10  =  80\n",
      "==============\n",
      "9  *  1  =  9\n",
      "9  *  2  =  18\n",
      "9  *  3  =  27\n",
      "9  *  4  =  36\n",
      "9  *  5  =  45\n",
      "9  *  6  =  54\n",
      "9  *  7  =  63\n",
      "9  *  8  =  72\n",
      "9  *  9  =  81\n",
      "9  *  10  =  90\n",
      "==============\n",
      "10  *  1  =  10\n",
      "10  *  2  =  20\n",
      "10  *  3  =  30\n",
      "10  *  4  =  40\n",
      "10  *  5  =  50\n",
      "10  *  6  =  60\n",
      "10  *  7  =  70\n",
      "10  *  8  =  80\n",
      "10  *  9  =  90\n",
      "10  *  10  =  100\n",
      "==============\n"
     ]
    }
   ],
   "source": [
    "i = 8\n",
    "\n",
    "print(\"Multiplication Table \")\n",
    "while(i <= 10):\n",
    "    j = 1\n",
    "    while(j <= 10):\n",
    "        print('{0}  *  {1}  =  {2}'.format(i, j, i*j))\n",
    "        j = j + 1\n",
    "    print('==============')\n",
    "    i = i + 1"
   ]
  },
  {
   "cell_type": "markdown",
   "metadata": {},
   "source": [
    "___"
   ]
  },
  {
   "cell_type": "markdown",
   "metadata": {},
   "source": [
    "## Roots of a Quadratic Equation"
   ]
  },
  {
   "cell_type": "markdown",
   "metadata": {},
   "source": [
    "Quadratic equation: $ax^+bx+c=0$ \n",
    "\n",
    "Discriminant, D = $(b^2-4ac)$\n",
    "\n",
    "* If D > 0, two unique and real roots are:\n",
    "$$Root~1=\\frac{-b+\\sqrt{D}}{2a};~ Root~2 = \\frac{-b-\\sqrt{D}}{2a}$$\n",
    "\n",
    "* If D = 0, two equal and real roots exists:\n",
    "$$Root=\\frac{-b}{2a}$$\n",
    "\n",
    "* If D < 0, two equal and real roots are:\n",
    "$$Root~1=\\frac{-b}{2a} + i\\frac{\\sqrt{-D}}{2a};~ Root~2 = \\frac{-b}{2a} - i\\frac{\\sqrt{-D}}{2a}$$"
   ]
  },
  {
   "cell_type": "code",
   "execution_count": 91,
   "metadata": {},
   "outputs": [
    {
     "name": "stdin",
     "output_type": "stream",
     "text": [
      "Please enter value of 'a' in Quadratic Equation :  2\n",
      "Please enter value of 'b' in Quadratic Equation :  4\n",
      "Please enter value of 'c' in Quadratic Equation :  5\n"
     ]
    },
    {
     "name": "stdout",
     "output_type": "stream",
     "text": [
      "Two Distinct Complex Roots Exists: root1 = (-1.00) + i (1.22) and root2 = (-1.00) - i (1.22)\n"
     ]
    }
   ],
   "source": [
    "a = int(input(\"Please enter value of 'a' in Quadratic Equation : \"))\n",
    "b = int(input(\"Please enter value of 'b' in Quadratic Equation : \"))\n",
    "c = int(input(\"Please enter value of 'c' in Quadratic Equation : \"))\n",
    "\n",
    "discriminant = (b ** 2) - (4 * a * c)\n",
    "\n",
    "if discriminant > 0:\n",
    "    root1 = (-b + math.sqrt(discriminant) / (2 * a))\n",
    "    root2 = (-b - math.sqrt(discriminant) / (2 * a))\n",
    "    print(\"Two Distinct Real Roots Exists: root1 = {} and root2 = {}\".format(root1, root2))\n",
    "elif discriminant == 0:\n",
    "    root = -b / (2 * a)\n",
    "    print(\"Two Equal and Real Roots Exists: root = {}\".format(root))\n",
    "elif discriminant < 0:\n",
    "    root1 = root2 = -b / (2 * a)\n",
    "    imaginary = math.sqrt(-discriminant) / (2 * a)\n",
    "    print(\"Two Distinct Complex Roots Exists: root 1 = ({:.2f}) + i ({:.2f}) and root 2 = ({:.2f}) - i ({:.2f})\".format(root1, imaginary, root2, imaginary))"
   ]
  },
  {
   "cell_type": "markdown",
   "metadata": {},
   "source": [
    "___"
   ]
  },
  {
   "cell_type": "markdown",
   "metadata": {},
   "source": [
    "## Find Student Grades"
   ]
  },
  {
   "cell_type": "code",
   "execution_count": 134,
   "metadata": {},
   "outputs": [
    {
     "name": "stdin",
     "output_type": "stream",
     "text": [
      "Please enter English Marks out of 100:  95\n",
      "Please enter Math score out of 100:  98\n",
      "Please enter Computer Marks out of 100:  95\n",
      "Please enter Physics Marks out of 100:  95\n",
      "Please enter Chemistry Marks out of 100:  95\n"
     ]
    },
    {
     "name": "stdout",
     "output_type": "stream",
     "text": [
      "Total Marks = 478.00\n",
      "Average Marks = 95.60\n",
      "Marks Percentage = 95.60 %\n",
      "The final grade is  A Grade\n"
     ]
    }
   ],
   "source": [
    "english = float(input(\"Please enter English Marks out of 100: \"))\n",
    "math = float(input(\"Please enter Math score out of 100: \"))\n",
    "computers = float(input(\"Please enter Computer Marks out of 100: \"))\n",
    "physics = float(input(\"Please enter Physics Marks out of 100: \"))\n",
    "chemistry = float(input(\"Please enter Chemistry Marks out of 100: \"))\n",
    "\n",
    "total = english + math + computers + physics + chemistry\n",
    "average = total / 5\n",
    "percentage = (total / 500) * 100\n",
    "\n",
    "print(\"Total Marks = {:.2f}\".format(total))\n",
    "print(\"Average Marks = {:0.2f}\".format(average))\n",
    "print(\"Marks Percentage = {:.2f} %\".format(percentage))\n",
    "print(\"The final grade is \", end = \" \")\n",
    "if(percentage >= 90):\n",
    "    print(\"A Grade\")\n",
    "elif(percentage >= 80):\n",
    "    print(\"B Grade\")\n",
    "elif(percentage >= 70):\n",
    "    print(\"C Grade\")\n",
    "elif(percentage >= 60):\n",
    "    print(\"D Grade\")\n",
    "elif(percentage >= 40):\n",
    "    print(\"E Grade\")\n",
    "else:\n",
    "    print(\"Fail\")"
   ]
  },
  {
   "cell_type": "markdown",
   "metadata": {
    "tags": []
   },
   "source": [
    "___"
   ]
  },
  {
   "cell_type": "markdown",
   "metadata": {},
   "source": [
    "## Read 10 Numbers and Find their Sum and Average"
   ]
  },
  {
   "cell_type": "markdown",
   "metadata": {},
   "source": [
    "### Remarks:\n",
    "* for loop and while loop are the two types of loops that are used commonly. For loop runs repeatedly over a set of iterable values and while loop runs till a specific condition is met.\n",
    "* While loop is slower than for loop in most cases as it includes additional steps of checkin the truth of a statment and modifying the variable that is checked in each loop.\n",
    "* As long as we  know the number of times the iterating step is to be performed, python convention is to rely more on for loop.\n",
    "* At the same time, if we only know a condition for the termination of the itereating step, we use the while loop."
   ]
  },
  {
   "cell_type": "code",
   "execution_count": 110,
   "metadata": {},
   "outputs": [
    {
     "name": "stdout",
     "output_type": "stream",
     "text": [
      "Please Enter 10 Numbers\n",
      "\n"
     ]
    },
    {
     "name": "stdin",
     "output_type": "stream",
     "text": [
      "Number 1 =  10\n",
      "Number 2 =  9\n",
      "Number 3 =  8\n",
      "Number 4 =  7\n",
      "Number 5 =  6\n",
      "Number 6 =  5\n",
      "Number 7 =  4\n",
      "Number 8 =  3\n",
      "Number 9 =  2\n",
      "Number 10 =  1\n"
     ]
    },
    {
     "name": "stdout",
     "output_type": "stream",
     "text": [
      "The Sum of 10 Numbers     =  55\n",
      "The Average of 10 Numbers =  5.5\n",
      "The Floor Average of 10 Numbers =  5\n"
     ]
    }
   ],
   "source": [
    "Sum = 0\n",
    "\n",
    "print(\"Please Enter 10 Numbers\\n\")\n",
    "for i in range(1, 11):\n",
    "    num = int(input(\"Number {} = \".format(i)))\n",
    "    Sum = Sum + num\n",
    "\n",
    "avg = Sum / 10#..............Normal division\n",
    "floor_avg = Sum // 10#.......Division to the next lowest integer.\n",
    "\n",
    "print(\"The Sum of 10 Numbers     = \", Sum)\n",
    "print(\"The Average of 10 Numbers = \", avg)\n",
    "print(\"The Floor Average of 10 Numbers = \", floor_avg)"
   ]
  },
  {
   "cell_type": "code",
   "execution_count": 111,
   "metadata": {},
   "outputs": [
    {
     "name": "stdout",
     "output_type": "stream",
     "text": [
      "Please Enter 10 Numbers\n",
      "\n"
     ]
    },
    {
     "name": "stdin",
     "output_type": "stream",
     "text": [
      "Number1 =  1\n",
      "Number2 =  2\n",
      "Number3 =  3\n",
      "Number4 =  4\n",
      "Number5 =  5\n",
      "Number6 =  6\n",
      "Number7 =  7\n",
      "Number8 =  8\n",
      "Number9 =  9\n",
      "Number10 =  10\n"
     ]
    },
    {
     "name": "stdout",
     "output_type": "stream",
     "text": [
      "The Sum of 10 Numbers     =  55\n",
      "The Average of 10 Numbers =  5.5\n",
      "The Floor Average of 10 Numbers =  5\n"
     ]
    }
   ],
   "source": [
    "Sum = 0\n",
    "\n",
    "print(\"Please Enter 10 Numbers\\n\")\n",
    "i = 1\n",
    "while(i <= 10):\n",
    "    num = int(input(\"Number{} = \".format(i)))\n",
    "    Sum = Sum + num\n",
    "    i = i + 1\n",
    "\n",
    "avg = Sum / 10\n",
    "floor_avg = Sum // 10\n",
    "\n",
    "print(\"The Sum of 10 Numbers     = \", Sum)\n",
    "print(\"The Average of 10 Numbers = \", avg)\n",
    "print(\"The Floor Average of 10 Numbers = \", floor_avg)"
   ]
  },
  {
   "cell_type": "markdown",
   "metadata": {},
   "source": [
    "___"
   ]
  },
  {
   "cell_type": "markdown",
   "metadata": {},
   "source": [
    "## Find Sum and Average of N natural numbers"
   ]
  },
  {
   "cell_type": "markdown",
   "metadata": {},
   "source": [
    "### 1. Using for loop"
   ]
  },
  {
   "cell_type": "code",
   "execution_count": 117,
   "metadata": {},
   "outputs": [
    {
     "name": "stdin",
     "output_type": "stream",
     "text": [
      "Please Enter any Number:  10\n"
     ]
    },
    {
     "name": "stdout",
     "output_type": "stream",
     "text": [
      "The Sum of Natural Numbers from 1 to 10 =  55\n",
      "Average of Natural Numbers from 1 to 10 =  5.5\n"
     ]
    }
   ],
   "source": [
    "number = int(input(\"Please Enter any Number: \"))\n",
    "total = 0\n",
    "\n",
    "for value in range(1, number + 1):\n",
    "    total = total + value\n",
    "\n",
    "average = total / number\n",
    "\n",
    "print(\"The Sum of Natural Numbers from 1 to {0} =  {1}\".format(number, total))\n",
    "print(\"Average of Natural Numbers from 1 to {0} =  {1}\".format(number, average))"
   ]
  },
  {
   "cell_type": "markdown",
   "metadata": {},
   "source": [
    "### Using while loop"
   ]
  },
  {
   "cell_type": "code",
   "execution_count": 118,
   "metadata": {},
   "outputs": [
    {
     "name": "stdin",
     "output_type": "stream",
     "text": [
      "Please Enter any Number:  10\n"
     ]
    },
    {
     "name": "stdout",
     "output_type": "stream",
     "text": [
      "The Sum of Natural Numbers from 1 to 10 =  55\n",
      "Average of Natural Numbers from 1 to 10 =  5.5\n"
     ]
    }
   ],
   "source": [
    "number = int(input(\"Please Enter any Number: \"))\n",
    "\n",
    "total = 0\n",
    "value = 1\n",
    "\n",
    "while (value <= number):\n",
    "    total = total + value\n",
    "    value = value + 1\n",
    "\n",
    "average = total / number\n",
    "\n",
    "print(\"The Sum of Natural Numbers from 1 to {0} =  {1}\".format(number, total))\n",
    "print(\"Average of Natural Numbers from 1 to {0} =  {1}\".format(number, average))"
   ]
  },
  {
   "cell_type": "markdown",
   "metadata": {},
   "source": [
    "### Using defined function"
   ]
  },
  {
   "cell_type": "code",
   "execution_count": 119,
   "metadata": {},
   "outputs": [
    {
     "name": "stdin",
     "output_type": "stream",
     "text": [
      "Please Enter any Number:  10\n"
     ]
    },
    {
     "name": "stdout",
     "output_type": "stream",
     "text": [
      "The Sum of Natural Numbers from 1 to 10 =  55.0\n",
      "Average of Natural Numbers from 1 to 10 =  5.5\n"
     ]
    }
   ],
   "source": [
    "def sum_and_avg_of_natural_numbers(num):\n",
    "    if(num == 0):\n",
    "        return num\n",
    "    else:\n",
    "        return (num * (num + 1) / 2)\n",
    "    \n",
    "number = int(input(\"Please Enter any Number: \"))\n",
    "\n",
    "total = sum_and_avg_of_natural_numbers(number)\n",
    "average = total / number\n",
    "\n",
    "print(\"The Sum of Natural Numbers from 1 to {0} =  {1}\".format(number, total))\n",
    "print(\"Average of Natural Numbers from 1 to {0} =  {1}\".format(number, average))"
   ]
  },
  {
   "cell_type": "markdown",
   "metadata": {},
   "source": [
    "___"
   ]
  },
  {
   "cell_type": "markdown",
   "metadata": {},
   "source": [
    "## Print Natural Numbers"
   ]
  },
  {
   "cell_type": "markdown",
   "metadata": {},
   "source": [
    "### 1. First 10"
   ]
  },
  {
   "cell_type": "code",
   "execution_count": 105,
   "metadata": {},
   "outputs": [
    {
     "name": "stdout",
     "output_type": "stream",
     "text": [
      "1\n",
      "2\n",
      "3\n",
      "4\n",
      "5\n",
      "6\n",
      "7\n",
      "8\n",
      "9\n",
      "10\n"
     ]
    }
   ],
   "source": [
    "for i in range(1, 11):\n",
    "    print(i)"
   ]
  },
  {
   "cell_type": "code",
   "execution_count": 106,
   "metadata": {},
   "outputs": [
    {
     "name": "stdout",
     "output_type": "stream",
     "text": [
      "1\n",
      "2\n",
      "3\n",
      "4\n",
      "5\n",
      "6\n",
      "7\n",
      "8\n",
      "9\n",
      "10\n"
     ]
    }
   ],
   "source": [
    "i = 1\n",
    "while(i <= 10):\n",
    "    print(i)\n",
    "    i = i + 1"
   ]
  },
  {
   "cell_type": "markdown",
   "metadata": {},
   "source": [
    "### Remarks:\n",
    "* The range(start, stop, step) functuon in python returns a sequence of numbers that starts from 0 by default or the specified start number, increments by default 1 or the specified step number, and stops before the stop number."
   ]
  },
  {
   "cell_type": "markdown",
   "metadata": {},
   "source": [
    "### 2. First 10 Even"
   ]
  },
  {
   "cell_type": "code",
   "execution_count": 103,
   "metadata": {},
   "outputs": [
    {
     "name": "stdout",
     "output_type": "stream",
     "text": [
      "2\n",
      "4\n",
      "6\n",
      "8\n",
      "10\n",
      "12\n",
      "14\n",
      "16\n",
      "18\n",
      "20\n"
     ]
    }
   ],
   "source": [
    "for i in range(1, 11):\n",
    "    print(2*i)"
   ]
  },
  {
   "cell_type": "code",
   "execution_count": 104,
   "metadata": {},
   "outputs": [
    {
     "name": "stdout",
     "output_type": "stream",
     "text": [
      "2\n",
      "4\n",
      "6\n",
      "8\n",
      "10\n",
      "12\n",
      "14\n",
      "16\n",
      "18\n",
      "20\n"
     ]
    }
   ],
   "source": [
    "i = 1\n",
    "while(i <= 10):\n",
    "    print(2 * i)\n",
    "    i = i + 1"
   ]
  },
  {
   "cell_type": "markdown",
   "metadata": {},
   "source": [
    "### 3. First 10 Odd"
   ]
  },
  {
   "cell_type": "code",
   "execution_count": 107,
   "metadata": {},
   "outputs": [
    {
     "name": "stdout",
     "output_type": "stream",
     "text": [
      "1\n",
      "3\n",
      "5\n",
      "7\n",
      "9\n",
      "11\n",
      "13\n",
      "15\n",
      "17\n",
      "19\n"
     ]
    }
   ],
   "source": [
    "for i in range(1, 11):\n",
    "    print(2 * i - 1)"
   ]
  },
  {
   "cell_type": "code",
   "execution_count": 108,
   "metadata": {},
   "outputs": [
    {
     "name": "stdout",
     "output_type": "stream",
     "text": [
      "1\n",
      "3\n",
      "5\n",
      "7\n",
      "9\n",
      "11\n",
      "13\n",
      "15\n",
      "17\n",
      "19\n"
     ]
    }
   ],
   "source": [
    "i = 1\n",
    "\n",
    "while(i <= 10):\n",
    "    print(2 * i - 1)\n",
    "    i = i + 1"
   ]
  },
  {
   "cell_type": "markdown",
   "metadata": {},
   "source": [
    "### 4. In Reverse Order"
   ]
  },
  {
   "cell_type": "code",
   "execution_count": 109,
   "metadata": {},
   "outputs": [
    {
     "name": "stdin",
     "output_type": "stream",
     "text": [
      "Please Enter the Maximum integer Value :  20\n",
      "Please Enter the Minimum integer Value :  10\n"
     ]
    },
    {
     "name": "stdout",
     "output_type": "stream",
     "text": [
      "List of Natural Numbers from 20 to 10 : \n",
      "20  19  18  17  16  15  14  13  12  11  10  "
     ]
    }
   ],
   "source": [
    "maximum = int(input(\"Please Enter the Maximum integer Value : \"))\n",
    "minimum = int(input(\"Please Enter the Minimum integer Value : \"))\n",
    "\n",
    "print(\"List of Natural Numbers from {0} to {1} : \".format(maximum, minimum)) \n",
    "\n",
    "while ( maximum >= minimum):\n",
    "    print (maximum, end = '  ')\n",
    "    maximum = maximum - 1"
   ]
  },
  {
   "cell_type": "markdown",
   "metadata": {},
   "source": [
    "___"
   ]
  },
  {
   "cell_type": "markdown",
   "metadata": {},
   "source": [
    "## Sum of 10 Numbers and Skip Negative Numbers"
   ]
  },
  {
   "cell_type": "markdown",
   "metadata": {},
   "source": [
    "### 1. Using for loop"
   ]
  },
  {
   "cell_type": "code",
   "execution_count": 120,
   "metadata": {},
   "outputs": [
    {
     "name": "stdout",
     "output_type": "stream",
     "text": [
      "Please Enter 10 Numbersto Find Positive Sum\n",
      "\n"
     ]
    },
    {
     "name": "stdin",
     "output_type": "stream",
     "text": [
      "Number 1 =  1\n",
      "Number 2 =  2\n",
      "Number 3 =  3\n",
      "Number 4 =  4\n",
      "Number 5 =  5\n",
      "Number 6 =  6\n",
      "Number 7 =  7\n",
      "Number 8 =  8\n",
      "Number 9 =  9\n",
      "Number 10 =  10\n"
     ]
    },
    {
     "name": "stdout",
     "output_type": "stream",
     "text": [
      "The Sum of 10 Numbers by Skipping Negative Numbers =  55\n"
     ]
    }
   ],
   "source": [
    "positive_sum = 0\n",
    "\n",
    "print(\"Please Enter 10 Numbers to Find Positive Sum\\n\")\n",
    "for i in range(1, 11):\n",
    "    num = int(input(\"Number {:d} = \".format(i)))\n",
    "\n",
    "    if num < 0:\n",
    "        continue\n",
    "\n",
    "    positive_sum = positive_sum + num\n",
    "\n",
    "print(\"The Sum of 10 Numbers by Skipping Negative Numbers = \", positive_sum)"
   ]
  },
  {
   "cell_type": "markdown",
   "metadata": {},
   "source": [
    "### 2. Using while loop"
   ]
  },
  {
   "cell_type": "code",
   "execution_count": 121,
   "metadata": {},
   "outputs": [
    {
     "name": "stdout",
     "output_type": "stream",
     "text": [
      "Please Enter 10 Numbersto Find Positive Sum\n",
      "\n"
     ]
    },
    {
     "name": "stdin",
     "output_type": "stream",
     "text": [
      "Number 1 =  -1\n",
      "Number 2 =  -2\n",
      "Number 3 =  3\n",
      "Number 4 =  4\n",
      "Number 5 =  -6\n",
      "Number 6 =  -8\n",
      "Number 7 =  7\n",
      "Number 8 =  9\n",
      "Number 9 =  5\n",
      "Number 10 =  -2\n"
     ]
    },
    {
     "name": "stdout",
     "output_type": "stream",
     "text": [
      "The Sum of 10 Numbers by Skipping Negative Numbers =  28\n"
     ]
    }
   ],
   "source": [
    "positive_sum = 0\n",
    "\n",
    "print(\"Please Enter 10 Numbers to Find Positive Sum\\n\")\n",
    "i = 1\n",
    "while(i <= 10):\n",
    "    num = int(input(\"Number {:d} = \".format(i)))\n",
    "\n",
    "    if num < 0:\n",
    "        i = i + 1\n",
    "        continue\n",
    "\n",
    "    positive_sum = positive_sum + num\n",
    "    i = i + 1\n",
    "\n",
    "print(\"The Sum of 10 Numbers by Skipping Negative Numbers = \", positive_sum)"
   ]
  },
  {
   "cell_type": "markdown",
   "metadata": {},
   "source": [
    "___"
   ]
  },
  {
   "cell_type": "markdown",
   "metadata": {},
   "source": [
    "## Sum of 10 Numbers Until a Negative Number is entered"
   ]
  },
  {
   "cell_type": "markdown",
   "metadata": {},
   "source": [
    "### 1. Using for loop"
   ]
  },
  {
   "cell_type": "code",
   "execution_count": 122,
   "metadata": {},
   "outputs": [
    {
     "name": "stdout",
     "output_type": "stream",
     "text": [
      "Please Enter 10 Numbersto Find Positive Sum\n",
      "\n"
     ]
    },
    {
     "name": "stdin",
     "output_type": "stream",
     "text": [
      "Number 1 =  5\n",
      "Number 2 =  4\n",
      "Number 3 =  6\n",
      "Number 4 =  7\n",
      "Number 5 =  9\n",
      "Number 6 =  -2\n"
     ]
    },
    {
     "name": "stdout",
     "output_type": "stream",
     "text": [
      "The Sum of Positive Numbers =  31\n"
     ]
    }
   ],
   "source": [
    "Sum = 0\n",
    "\n",
    "print(\"Please Enter 10 Numbers\\n\")\n",
    "for i in range(1, 11):\n",
    "    num = int(input(\"Number {:d} = \".format(i)))\n",
    "\n",
    "    if num < 0:\n",
    "        break\n",
    "\n",
    "    Sum = Sum + num\n",
    "\n",
    "print(\"The Sum of Positive Numbers = \", Sum)"
   ]
  },
  {
   "cell_type": "markdown",
   "metadata": {},
   "source": [
    "### 2. Using while loop"
   ]
  },
  {
   "cell_type": "code",
   "execution_count": 124,
   "metadata": {},
   "outputs": [
    {
     "name": "stdout",
     "output_type": "stream",
     "text": [
      "Please Enter 10 Numbers\n",
      "\n"
     ]
    },
    {
     "name": "stdin",
     "output_type": "stream",
     "text": [
      "Number 1 =  5\n",
      "Number 2 =  4\n",
      "Number 3 =  6\n",
      "Number 4 =  7\n",
      "Number 5 =  9\n",
      "Number 6 =  -2\n"
     ]
    },
    {
     "name": "stdout",
     "output_type": "stream",
     "text": [
      "The Sum of Positive Numbers =  31\n"
     ]
    }
   ],
   "source": [
    "Sum = 0\n",
    "\n",
    "print(\"Please Enter 10 Numbers\\n\")\n",
    "i = 1\n",
    "while(i <= 10):\n",
    "    num = int(input(\"Number {:d} = \".format(i)))\n",
    "\n",
    "    if num < 0:\n",
    "        break\n",
    "\n",
    "    Sum = Sum + num\n",
    "    i = i + 1\n",
    "\n",
    "print(\"The Sum of Positive Numbers = \", Sum)"
   ]
  },
  {
   "cell_type": "markdown",
   "metadata": {},
   "source": [
    "___"
   ]
  },
  {
   "cell_type": "markdown",
   "metadata": {},
   "source": [
    "## Calculate Electricity Bill"
   ]
  },
  {
   "cell_type": "markdown",
   "metadata": {},
   "source": [
    "### 1. Electricity board is charging different tariffs for different units. "
   ]
  },
  {
   "cell_type": "code",
   "execution_count": 126,
   "metadata": {},
   "outputs": [
    {
     "name": "stdin",
     "output_type": "stream",
     "text": [
      "Please enter Number of Units you Consumed :  265\n"
     ]
    },
    {
     "name": "stdout",
     "output_type": "stream",
     "text": [
      "\n",
      "Electricity Bill = 1442.75\n"
     ]
    }
   ],
   "source": [
    "units = int(input(\"Please enter Number of Units you Consumed : \"))\n",
    "\n",
    "if(units < 50):\n",
    "    amount = units * 2.60\n",
    "    surcharge = 25\n",
    "elif(units <= 100):\n",
    "    amount = 130 + ((units - 50) * 3.25)\n",
    "    surcharge = 35\n",
    "elif(units <= 200):\n",
    "    amount = 130 + 162.50 + ((units - 100) * 5.26)\n",
    "    surcharge = 45\n",
    "else:\n",
    "    amount = 130 + 162.50 + 526 + ((units - 200) * 8.45)\n",
    "    surcharge = 75\n",
    "\n",
    "total = amount + surcharge\n",
    "print(\"\\nElectricity Bill = {:0.2f}\".format(total))"
   ]
  },
  {
   "cell_type": "markdown",
   "metadata": {},
   "source": [
    "### 2. Electricity board charges uniform rates."
   ]
  },
  {
   "cell_type": "code",
   "execution_count": 127,
   "metadata": {},
   "outputs": [
    {
     "name": "stdin",
     "output_type": "stream",
     "text": [
      " Please enter Number of Units you Consumed :  450\n"
     ]
    },
    {
     "name": "stdout",
     "output_type": "stream",
     "text": [
      "\n",
      "Electricity Bill = 3562.50\n"
     ]
    }
   ],
   "source": [
    "units = int(input(\" Please enter Number of Units you Consumed : \"))\n",
    "\n",
    "if(units > 500):\n",
    "    amount = units * 9.65\n",
    "    surcharge = 85\n",
    "elif(units >= 300):\n",
    "    amount = units * 7.75\n",
    "    surcharge = 75\n",
    "elif(units >= 200):\n",
    "    amount = units * 5.26\n",
    "    surcharge = 55\n",
    "elif(units >= 100):\n",
    "    amount = units * 3.76\n",
    "    surcharge = 35\n",
    "else:\n",
    "    amount = units * 2.25\n",
    "    surcharge = 25\n",
    "\n",
    "total = amount + surcharge\n",
    "print(\"\\nElectricity Bill = {:0.2f}\".format(total))"
   ]
  },
  {
   "cell_type": "markdown",
   "metadata": {},
   "source": [
    "___"
   ]
  },
  {
   "cell_type": "markdown",
   "metadata": {},
   "source": [
    "## Find Distance Between Two Points"
   ]
  },
  {
   "cell_type": "code",
   "execution_count": 130,
   "metadata": {},
   "outputs": [
    {
     "name": "stdin",
     "output_type": "stream",
     "text": [
      "Enter the First Point Coordinate x1  =  0\n",
      "Enter the First Point Coordinate y1  =  1\n",
      "Enter the Second Point Coordinate x2 =  0\n",
      "Enter the Second Point Coordinate y2 =  3\n"
     ]
    },
    {
     "name": "stdout",
     "output_type": "stream",
     "text": [
      "x2 - x1 =  0.0\n",
      "y2 - y1 =  4.0\n",
      "The Distance Between Two Points = 2.0 Units\n"
     ]
    }
   ],
   "source": [
    "import math\n",
    "\n",
    "x1 = int(input(\"Enter the First Point Coordinate x1  = \"))\n",
    "y1 = int(input(\"Enter the First Point Coordinate y1  = \"))\n",
    "x2 = int(input(\"Enter the Second Point Coordinate x2 = \"))\n",
    "y2 = int(input(\"Enter the Second Point Coordinate y2 = \"))\n",
    "\n",
    "\n",
    "x = math.pow((x2 - x1), 2)\n",
    "y = math.pow((y2 - y1), 2)\n",
    "\n",
    "print(\"x2 - x1 = \",x)\n",
    "print(\"y2 - y1 = \",y)\n",
    "distance = math.sqrt(x + y)\n",
    "\n",
    "print('The Distance Between Two Points = {} Units'.format(distance))"
   ]
  },
  {
   "cell_type": "code",
   "execution_count": 131,
   "metadata": {},
   "outputs": [
    {
     "name": "stdin",
     "output_type": "stream",
     "text": [
      "Enter the First Point Coordinate x1  =  0\n",
      "Enter the First Point Coordinate y1  =  1\n",
      "Enter the Second Point Coordinate x2 =  0\n",
      "Enter the Second Point Coordinate y2 =  3\n"
     ]
    },
    {
     "name": "stdout",
     "output_type": "stream",
     "text": [
      "The Distance Between Two Points = 2.0 Units\n"
     ]
    }
   ],
   "source": [
    "def distanceBetweenTwo(x1, y1, x2, y2):\n",
    "    return math.sqrt((math.pow((x2 - x1), 2)) + (math.pow((y2 - y1), 2)))\n",
    "\n",
    "\n",
    "x1 = int(input(\"Enter the First Point Coordinate x1  = \"))\n",
    "y1 = int(input(\"Enter the First Point Coordinate y1  = \"))\n",
    "x2 = int(input(\"Enter the Second Point Coordinate x2 = \"))\n",
    "y2 = int(input(\"Enter the Second Point Coordinate y2 = \"))\n",
    "\n",
    "distance = distanceBetweenTwo(x1, y1, x2, y2)\n",
    "\n",
    "print('The Distance Between Two Points = {0} Units'.format(distance))"
   ]
  },
  {
   "cell_type": "markdown",
   "metadata": {},
   "source": [
    "___"
   ]
  },
  {
   "cell_type": "markdown",
   "metadata": {},
   "source": [
    "## Current Date and Time"
   ]
  },
  {
   "cell_type": "code",
   "execution_count": 138,
   "metadata": {},
   "outputs": [
    {
     "name": "stdout",
     "output_type": "stream",
     "text": [
      "Current Date =  2022-01-23\n"
     ]
    }
   ],
   "source": [
    "from datetime import date, datetime\n",
    "\n",
    "today = date.today()\n",
    "print(\"Current Date = \", today)"
   ]
  },
  {
   "cell_type": "code",
   "execution_count": 139,
   "metadata": {},
   "outputs": [
    {
     "name": "stdout",
     "output_type": "stream",
     "text": [
      "Current Date and Time =  2022-01-23 12:28:20.197934\n"
     ]
    }
   ],
   "source": [
    "today = datetime.now()\n",
    "print(\"Current Date and Time = \", today)"
   ]
  },
  {
   "cell_type": "code",
   "execution_count": 143,
   "metadata": {},
   "outputs": [
    {
     "name": "stdout",
     "output_type": "stream",
     "text": [
      "Current Date and Time =  January 23, 2022 - 12:28:20\n"
     ]
    }
   ],
   "source": [
    "# Formatting Date and Time\n",
    "dt = today.strftime(\"%B %d, %Y - %H:%M:%S\")\n",
    "print(\"Current Date and Time = \", dt)"
   ]
  },
  {
   "cell_type": "code",
   "execution_count": 142,
   "metadata": {},
   "outputs": [
    {
     "name": "stdout",
     "output_type": "stream",
     "text": [
      "Current Date and Time =  01/23/2022, 12:28:20\n"
     ]
    }
   ],
   "source": [
    "dt = today.strftime(\"%m/%d/%Y, %H:%M:%S\")\n",
    "print(\"Current Date and Time = \", dt)"
   ]
  },
  {
   "cell_type": "code",
   "execution_count": null,
   "metadata": {},
   "outputs": [],
   "source": []
  }
 ],
 "metadata": {
  "kernelspec": {
   "display_name": "Python 3",
   "language": "python",
   "name": "python3"
  },
  "language_info": {
   "codemirror_mode": {
    "name": "ipython",
    "version": 3
   },
   "file_extension": ".py",
   "mimetype": "text/x-python",
   "name": "python",
   "nbconvert_exporter": "python",
   "pygments_lexer": "ipython3",
   "version": "3.8.10"
  }
 },
 "nbformat": 4,
 "nbformat_minor": 4
}
